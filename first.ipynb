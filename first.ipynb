{
 "cells": [
  {
   "cell_type": "markdown",
   "metadata": {},
   "source": [
    "Task 1. Data Preparation"
   ]
  },
  {
   "cell_type": "markdown",
   "metadata": {},
   "source": [
    "Task 1.1: Import the datasets"
   ]
  },
  {
   "cell_type": "code",
   "execution_count": 1,
   "metadata": {},
   "outputs": [],
   "source": [
    "import pandas as pd\n",
    "import numpy as np\n",
    "import matplotlib.pyplot as plt\n",
    "import seaborn as sns"
   ]
  },
  {
   "cell_type": "code",
   "execution_count": 2,
   "metadata": {},
   "outputs": [],
   "source": [
    "feedback=pd.read_csv(\"customer_feedback_data.csv\")"
   ]
  },
  {
   "cell_type": "code",
   "execution_count": 3,
   "metadata": {},
   "outputs": [],
   "source": [
    "Metadata=pd.read_csv(\"customer_metadata_data.csv\")"
   ]
  },
  {
   "cell_type": "code",
   "execution_count": 4,
   "metadata": {},
   "outputs": [],
   "source": [
    "Info=pd.read_csv(\"product_information_data.csv\")"
   ]
  },
  {
   "cell_type": "markdown",
   "metadata": {},
   "source": [
    "Task 1.2: Inspect and clean the data, addressing any missing or inconsistent values."
   ]
  },
  {
   "cell_type": "code",
   "execution_count": 5,
   "metadata": {},
   "outputs": [
    {
     "name": "stdout",
     "output_type": "stream",
     "text": [
      "<class 'pandas.core.frame.DataFrame'>\n",
      "RangeIndex: 1000 entries, 0 to 999\n",
      "Data columns (total 7 columns):\n",
      " #   Column        Non-Null Count  Dtype  \n",
      "---  ------        --------------  -----  \n",
      " 0   Product_ID    1000 non-null   object \n",
      " 1   Product_Name  1000 non-null   object \n",
      " 2   Category      1000 non-null   object \n",
      " 3   Price         1000 non-null   float64\n",
      " 4   Manufacturer  1000 non-null   object \n",
      " 5   Launch_Date   1000 non-null   object \n",
      " 6   Description   1000 non-null   object \n",
      "dtypes: float64(1), object(6)\n",
      "memory usage: 54.8+ KB\n"
     ]
    }
   ],
   "source": [
    "Info.info()"
   ]
  },
  {
   "cell_type": "code",
   "execution_count": 6,
   "metadata": {},
   "outputs": [
    {
     "data": {
      "text/plain": [
       "0      False\n",
       "1      False\n",
       "2      False\n",
       "3      False\n",
       "4      False\n",
       "       ...  \n",
       "995    False\n",
       "996    False\n",
       "997    False\n",
       "998    False\n",
       "999    False\n",
       "Length: 1000, dtype: bool"
      ]
     },
     "execution_count": 6,
     "metadata": {},
     "output_type": "execute_result"
    }
   ],
   "source": [
    "Info.duplicated()"
   ]
  },
  {
   "cell_type": "code",
   "execution_count": 7,
   "metadata": {},
   "outputs": [
    {
     "name": "stdout",
     "output_type": "stream",
     "text": [
      "<class 'pandas.core.frame.DataFrame'>\n",
      "RangeIndex: 50000 entries, 0 to 49999\n",
      "Data columns (total 7 columns):\n",
      " #   Column             Non-Null Count  Dtype \n",
      "---  ------             --------------  ----- \n",
      " 0   Customer_ID        50000 non-null  object\n",
      " 1   Name               50000 non-null  object\n",
      " 2   Age                50000 non-null  int64 \n",
      " 3   Gender             50000 non-null  object\n",
      " 4   Location           50000 non-null  object\n",
      " 5   Date_of_Birth      50000 non-null  object\n",
      " 6   Registration_Date  50000 non-null  object\n",
      "dtypes: int64(1), object(6)\n",
      "memory usage: 2.7+ MB\n"
     ]
    }
   ],
   "source": [
    "Metadata.info()"
   ]
  },
  {
   "cell_type": "code",
   "execution_count": 8,
   "metadata": {},
   "outputs": [
    {
     "data": {
      "text/plain": [
       "0        False\n",
       "1        False\n",
       "2        False\n",
       "3        False\n",
       "4        False\n",
       "         ...  \n",
       "49995    False\n",
       "49996    False\n",
       "49997    False\n",
       "49998    False\n",
       "49999    False\n",
       "Length: 50000, dtype: bool"
      ]
     },
     "execution_count": 8,
     "metadata": {},
     "output_type": "execute_result"
    }
   ],
   "source": [
    "Metadata.duplicated()"
   ]
  },
  {
   "cell_type": "code",
   "execution_count": 9,
   "metadata": {},
   "outputs": [
    {
     "name": "stdout",
     "output_type": "stream",
     "text": [
      "<class 'pandas.core.frame.DataFrame'>\n",
      "RangeIndex: 100000 entries, 0 to 99999\n",
      "Data columns (total 8 columns):\n",
      " #   Column           Non-Null Count   Dtype \n",
      "---  ------           --------------   ----- \n",
      " 0   Feedback_ID      100000 non-null  object\n",
      " 1   Customer_ID      100000 non-null  object\n",
      " 2   Product_ID       100000 non-null  object\n",
      " 3   Feedback_Type    100000 non-null  object\n",
      " 4   Feedback_Date    100000 non-null  object\n",
      " 5   Rating           100000 non-null  int64 \n",
      " 6   Comment          100000 non-null  object\n",
      " 7   Sentiment_Label  100000 non-null  object\n",
      "dtypes: int64(1), object(7)\n",
      "memory usage: 6.1+ MB\n"
     ]
    }
   ],
   "source": [
    "feedback.info()"
   ]
  },
  {
   "cell_type": "code",
   "execution_count": 10,
   "metadata": {},
   "outputs": [
    {
     "data": {
      "text/plain": [
       "0        False\n",
       "1        False\n",
       "2        False\n",
       "3        False\n",
       "4        False\n",
       "         ...  \n",
       "99995    False\n",
       "99996    False\n",
       "99997    False\n",
       "99998    False\n",
       "99999    False\n",
       "Length: 100000, dtype: bool"
      ]
     },
     "execution_count": 10,
     "metadata": {},
     "output_type": "execute_result"
    }
   ],
   "source": [
    "feedback.duplicated()"
   ]
  },
  {
   "cell_type": "markdown",
   "metadata": {},
   "source": [
    "Task 2.1: Merge datasets on relevant columns (e.g., Customer_ID in customer metadata with Customer_ID in customer feedback, and Product_ID in product information with Product_ID in customer feedback)."
   ]
  },
  {
   "cell_type": "code",
   "execution_count": 11,
   "metadata": {},
   "outputs": [],
   "source": [
    "Data1=Metadata.merge(feedback, on=\"Customer_ID\")"
   ]
  },
  {
   "cell_type": "code",
   "execution_count": 12,
   "metadata": {},
   "outputs": [],
   "source": [
    "Data2=Info.merge(feedback,on=\"Product_ID\")"
   ]
  },
  {
   "cell_type": "code",
   "execution_count": 13,
   "metadata": {},
   "outputs": [
    {
     "data": {
      "text/html": [
       "<div>\n",
       "<style scoped>\n",
       "    .dataframe tbody tr th:only-of-type {\n",
       "        vertical-align: middle;\n",
       "    }\n",
       "\n",
       "    .dataframe tbody tr th {\n",
       "        vertical-align: top;\n",
       "    }\n",
       "\n",
       "    .dataframe thead th {\n",
       "        text-align: right;\n",
       "    }\n",
       "</style>\n",
       "<table border=\"1\" class=\"dataframe\">\n",
       "  <thead>\n",
       "    <tr style=\"text-align: right;\">\n",
       "      <th></th>\n",
       "      <th>Customer_ID</th>\n",
       "      <th>Name</th>\n",
       "      <th>Age</th>\n",
       "      <th>Gender</th>\n",
       "      <th>Location</th>\n",
       "      <th>Date_of_Birth</th>\n",
       "      <th>Registration_Date</th>\n",
       "      <th>Feedback_ID</th>\n",
       "      <th>Product_ID</th>\n",
       "      <th>Feedback_Type</th>\n",
       "      <th>Feedback_Date</th>\n",
       "      <th>Rating</th>\n",
       "      <th>Comment</th>\n",
       "      <th>Sentiment_Label</th>\n",
       "    </tr>\n",
       "  </thead>\n",
       "  <tbody>\n",
       "    <tr>\n",
       "      <th>0</th>\n",
       "      <td>C00000001</td>\n",
       "      <td>Michelle Cordova</td>\n",
       "      <td>52</td>\n",
       "      <td>Female</td>\n",
       "      <td>Kennethville</td>\n",
       "      <td>1982-03-15</td>\n",
       "      <td>2021-10-10</td>\n",
       "      <td>F00020052</td>\n",
       "      <td>P00000619</td>\n",
       "      <td>Survey</td>\n",
       "      <td>2024-07-18</td>\n",
       "      <td>1</td>\n",
       "      <td>Attorney remain than second some notice order ...</td>\n",
       "      <td>Negative</td>\n",
       "    </tr>\n",
       "    <tr>\n",
       "      <th>1</th>\n",
       "      <td>C00000003</td>\n",
       "      <td>Robin Gomez</td>\n",
       "      <td>19</td>\n",
       "      <td>Male</td>\n",
       "      <td>Erinfort</td>\n",
       "      <td>2000-10-21</td>\n",
       "      <td>2020-01-21</td>\n",
       "      <td>F00015054</td>\n",
       "      <td>P00000426</td>\n",
       "      <td>Email</td>\n",
       "      <td>2024-07-17</td>\n",
       "      <td>3</td>\n",
       "      <td>Truth goal girl task people collection goal sa...</td>\n",
       "      <td>Positive</td>\n",
       "    </tr>\n",
       "    <tr>\n",
       "      <th>2</th>\n",
       "      <td>C00000004</td>\n",
       "      <td>Benjamin Brooks</td>\n",
       "      <td>37</td>\n",
       "      <td>Female</td>\n",
       "      <td>Galvanville</td>\n",
       "      <td>1972-05-28</td>\n",
       "      <td>2021-01-26</td>\n",
       "      <td>F00025687</td>\n",
       "      <td>P00000267</td>\n",
       "      <td>Social Media</td>\n",
       "      <td>2024-05-14</td>\n",
       "      <td>4</td>\n",
       "      <td>State better point provide nearly live room ea...</td>\n",
       "      <td>Neutral</td>\n",
       "    </tr>\n",
       "    <tr>\n",
       "      <th>3</th>\n",
       "      <td>C00000004</td>\n",
       "      <td>Benjamin Brooks</td>\n",
       "      <td>37</td>\n",
       "      <td>Female</td>\n",
       "      <td>Galvanville</td>\n",
       "      <td>1972-05-28</td>\n",
       "      <td>2021-01-26</td>\n",
       "      <td>F00037995</td>\n",
       "      <td>P00000664</td>\n",
       "      <td>Social Media</td>\n",
       "      <td>2024-03-11</td>\n",
       "      <td>3</td>\n",
       "      <td>Off safe beautiful example meeting once energy...</td>\n",
       "      <td>Positive</td>\n",
       "    </tr>\n",
       "    <tr>\n",
       "      <th>4</th>\n",
       "      <td>C00000004</td>\n",
       "      <td>Benjamin Brooks</td>\n",
       "      <td>37</td>\n",
       "      <td>Female</td>\n",
       "      <td>Galvanville</td>\n",
       "      <td>1972-05-28</td>\n",
       "      <td>2021-01-26</td>\n",
       "      <td>F00038358</td>\n",
       "      <td>P00000340</td>\n",
       "      <td>Email</td>\n",
       "      <td>2024-05-04</td>\n",
       "      <td>5</td>\n",
       "      <td>Each fish but nice grow indicate message actio...</td>\n",
       "      <td>Negative</td>\n",
       "    </tr>\n",
       "    <tr>\n",
       "      <th>...</th>\n",
       "      <td>...</td>\n",
       "      <td>...</td>\n",
       "      <td>...</td>\n",
       "      <td>...</td>\n",
       "      <td>...</td>\n",
       "      <td>...</td>\n",
       "      <td>...</td>\n",
       "      <td>...</td>\n",
       "      <td>...</td>\n",
       "      <td>...</td>\n",
       "      <td>...</td>\n",
       "      <td>...</td>\n",
       "      <td>...</td>\n",
       "      <td>...</td>\n",
       "    </tr>\n",
       "    <tr>\n",
       "      <th>99995</th>\n",
       "      <td>C00049999</td>\n",
       "      <td>Kim Sanders</td>\n",
       "      <td>43</td>\n",
       "      <td>Male</td>\n",
       "      <td>New Mathewchester</td>\n",
       "      <td>1957-03-16</td>\n",
       "      <td>2020-02-11</td>\n",
       "      <td>F00005009</td>\n",
       "      <td>P00000390</td>\n",
       "      <td>Social Media</td>\n",
       "      <td>2024-02-12</td>\n",
       "      <td>1</td>\n",
       "      <td>Good wear contain want lay sometimes recognize...</td>\n",
       "      <td>Neutral</td>\n",
       "    </tr>\n",
       "    <tr>\n",
       "      <th>99996</th>\n",
       "      <td>C00049999</td>\n",
       "      <td>Kim Sanders</td>\n",
       "      <td>43</td>\n",
       "      <td>Male</td>\n",
       "      <td>New Mathewchester</td>\n",
       "      <td>1957-03-16</td>\n",
       "      <td>2020-02-11</td>\n",
       "      <td>F00033452</td>\n",
       "      <td>P00000857</td>\n",
       "      <td>Survey</td>\n",
       "      <td>2024-07-15</td>\n",
       "      <td>1</td>\n",
       "      <td>Indicate somebody check buy fast on ok this dr...</td>\n",
       "      <td>Negative</td>\n",
       "    </tr>\n",
       "    <tr>\n",
       "      <th>99997</th>\n",
       "      <td>C00050000</td>\n",
       "      <td>Steven Lambert</td>\n",
       "      <td>50</td>\n",
       "      <td>Female</td>\n",
       "      <td>East Georgetown</td>\n",
       "      <td>1967-10-31</td>\n",
       "      <td>2022-09-26</td>\n",
       "      <td>F00017250</td>\n",
       "      <td>P00000571</td>\n",
       "      <td>Social Media</td>\n",
       "      <td>2024-04-18</td>\n",
       "      <td>2</td>\n",
       "      <td>Agent might wide far few decade long discussio...</td>\n",
       "      <td>Negative</td>\n",
       "    </tr>\n",
       "    <tr>\n",
       "      <th>99998</th>\n",
       "      <td>C00050000</td>\n",
       "      <td>Steven Lambert</td>\n",
       "      <td>50</td>\n",
       "      <td>Female</td>\n",
       "      <td>East Georgetown</td>\n",
       "      <td>1967-10-31</td>\n",
       "      <td>2022-09-26</td>\n",
       "      <td>F00041464</td>\n",
       "      <td>P00000602</td>\n",
       "      <td>Social Media</td>\n",
       "      <td>2024-02-10</td>\n",
       "      <td>1</td>\n",
       "      <td>Available rule method important poor choose th...</td>\n",
       "      <td>Positive</td>\n",
       "    </tr>\n",
       "    <tr>\n",
       "      <th>99999</th>\n",
       "      <td>C00050000</td>\n",
       "      <td>Steven Lambert</td>\n",
       "      <td>50</td>\n",
       "      <td>Female</td>\n",
       "      <td>East Georgetown</td>\n",
       "      <td>1967-10-31</td>\n",
       "      <td>2022-09-26</td>\n",
       "      <td>F00092515</td>\n",
       "      <td>P00000288</td>\n",
       "      <td>Survey</td>\n",
       "      <td>2024-01-12</td>\n",
       "      <td>3</td>\n",
       "      <td>Baby maybe budget develop listen wide forward ...</td>\n",
       "      <td>Neutral</td>\n",
       "    </tr>\n",
       "  </tbody>\n",
       "</table>\n",
       "<p>100000 rows × 14 columns</p>\n",
       "</div>"
      ],
      "text/plain": [
       "      Customer_ID              Name  Age  Gender           Location  \\\n",
       "0       C00000001  Michelle Cordova   52  Female       Kennethville   \n",
       "1       C00000003       Robin Gomez   19    Male           Erinfort   \n",
       "2       C00000004   Benjamin Brooks   37  Female        Galvanville   \n",
       "3       C00000004   Benjamin Brooks   37  Female        Galvanville   \n",
       "4       C00000004   Benjamin Brooks   37  Female        Galvanville   \n",
       "...           ...               ...  ...     ...                ...   \n",
       "99995   C00049999       Kim Sanders   43    Male  New Mathewchester   \n",
       "99996   C00049999       Kim Sanders   43    Male  New Mathewchester   \n",
       "99997   C00050000    Steven Lambert   50  Female    East Georgetown   \n",
       "99998   C00050000    Steven Lambert   50  Female    East Georgetown   \n",
       "99999   C00050000    Steven Lambert   50  Female    East Georgetown   \n",
       "\n",
       "      Date_of_Birth Registration_Date Feedback_ID Product_ID Feedback_Type  \\\n",
       "0        1982-03-15        2021-10-10   F00020052  P00000619        Survey   \n",
       "1        2000-10-21        2020-01-21   F00015054  P00000426         Email   \n",
       "2        1972-05-28        2021-01-26   F00025687  P00000267  Social Media   \n",
       "3        1972-05-28        2021-01-26   F00037995  P00000664  Social Media   \n",
       "4        1972-05-28        2021-01-26   F00038358  P00000340         Email   \n",
       "...             ...               ...         ...        ...           ...   \n",
       "99995    1957-03-16        2020-02-11   F00005009  P00000390  Social Media   \n",
       "99996    1957-03-16        2020-02-11   F00033452  P00000857        Survey   \n",
       "99997    1967-10-31        2022-09-26   F00017250  P00000571  Social Media   \n",
       "99998    1967-10-31        2022-09-26   F00041464  P00000602  Social Media   \n",
       "99999    1967-10-31        2022-09-26   F00092515  P00000288        Survey   \n",
       "\n",
       "      Feedback_Date  Rating  \\\n",
       "0        2024-07-18       1   \n",
       "1        2024-07-17       3   \n",
       "2        2024-05-14       4   \n",
       "3        2024-03-11       3   \n",
       "4        2024-05-04       5   \n",
       "...             ...     ...   \n",
       "99995    2024-02-12       1   \n",
       "99996    2024-07-15       1   \n",
       "99997    2024-04-18       2   \n",
       "99998    2024-02-10       1   \n",
       "99999    2024-01-12       3   \n",
       "\n",
       "                                                 Comment Sentiment_Label  \n",
       "0      Attorney remain than second some notice order ...        Negative  \n",
       "1      Truth goal girl task people collection goal sa...        Positive  \n",
       "2      State better point provide nearly live room ea...         Neutral  \n",
       "3      Off safe beautiful example meeting once energy...        Positive  \n",
       "4      Each fish but nice grow indicate message actio...        Negative  \n",
       "...                                                  ...             ...  \n",
       "99995  Good wear contain want lay sometimes recognize...         Neutral  \n",
       "99996  Indicate somebody check buy fast on ok this dr...        Negative  \n",
       "99997  Agent might wide far few decade long discussio...        Negative  \n",
       "99998  Available rule method important poor choose th...        Positive  \n",
       "99999  Baby maybe budget develop listen wide forward ...         Neutral  \n",
       "\n",
       "[100000 rows x 14 columns]"
      ]
     },
     "execution_count": 13,
     "metadata": {},
     "output_type": "execute_result"
    }
   ],
   "source": [
    "Data1"
   ]
  },
  {
   "cell_type": "code",
   "execution_count": 14,
   "metadata": {},
   "outputs": [
    {
     "data": {
      "text/html": [
       "<div>\n",
       "<style scoped>\n",
       "    .dataframe tbody tr th:only-of-type {\n",
       "        vertical-align: middle;\n",
       "    }\n",
       "\n",
       "    .dataframe tbody tr th {\n",
       "        vertical-align: top;\n",
       "    }\n",
       "\n",
       "    .dataframe thead th {\n",
       "        text-align: right;\n",
       "    }\n",
       "</style>\n",
       "<table border=\"1\" class=\"dataframe\">\n",
       "  <thead>\n",
       "    <tr style=\"text-align: right;\">\n",
       "      <th></th>\n",
       "      <th>Product_ID</th>\n",
       "      <th>Product_Name</th>\n",
       "      <th>Category</th>\n",
       "      <th>Price</th>\n",
       "      <th>Manufacturer</th>\n",
       "      <th>Launch_Date</th>\n",
       "      <th>Description</th>\n",
       "      <th>Feedback_ID</th>\n",
       "      <th>Customer_ID</th>\n",
       "      <th>Feedback_Type</th>\n",
       "      <th>Feedback_Date</th>\n",
       "      <th>Rating</th>\n",
       "      <th>Comment</th>\n",
       "      <th>Sentiment_Label</th>\n",
       "    </tr>\n",
       "  </thead>\n",
       "  <tbody>\n",
       "    <tr>\n",
       "      <th>0</th>\n",
       "      <td>P00000001</td>\n",
       "      <td>Those</td>\n",
       "      <td>Electronics</td>\n",
       "      <td>357.11</td>\n",
       "      <td>Warren, Duncan and Carlson</td>\n",
       "      <td>2020-02-29</td>\n",
       "      <td>Between have film increase across no speech kn...</td>\n",
       "      <td>F00000247</td>\n",
       "      <td>C00038556</td>\n",
       "      <td>Email</td>\n",
       "      <td>2024-08-24</td>\n",
       "      <td>1</td>\n",
       "      <td>Adult soldier consider lay one down room publi...</td>\n",
       "      <td>Neutral</td>\n",
       "    </tr>\n",
       "    <tr>\n",
       "      <th>1</th>\n",
       "      <td>P00000001</td>\n",
       "      <td>Those</td>\n",
       "      <td>Electronics</td>\n",
       "      <td>357.11</td>\n",
       "      <td>Warren, Duncan and Carlson</td>\n",
       "      <td>2020-02-29</td>\n",
       "      <td>Between have film increase across no speech kn...</td>\n",
       "      <td>F00001204</td>\n",
       "      <td>C00007699</td>\n",
       "      <td>Email</td>\n",
       "      <td>2024-05-13</td>\n",
       "      <td>3</td>\n",
       "      <td>Cut heavy throw health clear discuss activity ...</td>\n",
       "      <td>Positive</td>\n",
       "    </tr>\n",
       "    <tr>\n",
       "      <th>2</th>\n",
       "      <td>P00000001</td>\n",
       "      <td>Those</td>\n",
       "      <td>Electronics</td>\n",
       "      <td>357.11</td>\n",
       "      <td>Warren, Duncan and Carlson</td>\n",
       "      <td>2020-02-29</td>\n",
       "      <td>Between have film increase across no speech kn...</td>\n",
       "      <td>F00002206</td>\n",
       "      <td>C00048182</td>\n",
       "      <td>Social Media</td>\n",
       "      <td>2024-03-14</td>\n",
       "      <td>1</td>\n",
       "      <td>Hair piece physical key especially writer call...</td>\n",
       "      <td>Neutral</td>\n",
       "    </tr>\n",
       "    <tr>\n",
       "      <th>3</th>\n",
       "      <td>P00000001</td>\n",
       "      <td>Those</td>\n",
       "      <td>Electronics</td>\n",
       "      <td>357.11</td>\n",
       "      <td>Warren, Duncan and Carlson</td>\n",
       "      <td>2020-02-29</td>\n",
       "      <td>Between have film increase across no speech kn...</td>\n",
       "      <td>F00002595</td>\n",
       "      <td>C00036559</td>\n",
       "      <td>Email</td>\n",
       "      <td>2024-06-30</td>\n",
       "      <td>3</td>\n",
       "      <td>Stage choose ok follow effect new somebody dog...</td>\n",
       "      <td>Neutral</td>\n",
       "    </tr>\n",
       "    <tr>\n",
       "      <th>4</th>\n",
       "      <td>P00000001</td>\n",
       "      <td>Those</td>\n",
       "      <td>Electronics</td>\n",
       "      <td>357.11</td>\n",
       "      <td>Warren, Duncan and Carlson</td>\n",
       "      <td>2020-02-29</td>\n",
       "      <td>Between have film increase across no speech kn...</td>\n",
       "      <td>F00004979</td>\n",
       "      <td>C00048283</td>\n",
       "      <td>Email</td>\n",
       "      <td>2024-03-31</td>\n",
       "      <td>1</td>\n",
       "      <td>Culture artist pattern write heavy serious ind...</td>\n",
       "      <td>Negative</td>\n",
       "    </tr>\n",
       "    <tr>\n",
       "      <th>...</th>\n",
       "      <td>...</td>\n",
       "      <td>...</td>\n",
       "      <td>...</td>\n",
       "      <td>...</td>\n",
       "      <td>...</td>\n",
       "      <td>...</td>\n",
       "      <td>...</td>\n",
       "      <td>...</td>\n",
       "      <td>...</td>\n",
       "      <td>...</td>\n",
       "      <td>...</td>\n",
       "      <td>...</td>\n",
       "      <td>...</td>\n",
       "      <td>...</td>\n",
       "    </tr>\n",
       "    <tr>\n",
       "      <th>99995</th>\n",
       "      <td>P00001000</td>\n",
       "      <td>Anyone</td>\n",
       "      <td>Electronics</td>\n",
       "      <td>874.98</td>\n",
       "      <td>White and Sons</td>\n",
       "      <td>2022-03-10</td>\n",
       "      <td>Response little some animal mention mean it so...</td>\n",
       "      <td>F00091835</td>\n",
       "      <td>C00015183</td>\n",
       "      <td>Survey</td>\n",
       "      <td>2024-06-11</td>\n",
       "      <td>3</td>\n",
       "      <td>Record compare policy too task history door mi...</td>\n",
       "      <td>Positive</td>\n",
       "    </tr>\n",
       "    <tr>\n",
       "      <th>99996</th>\n",
       "      <td>P00001000</td>\n",
       "      <td>Anyone</td>\n",
       "      <td>Electronics</td>\n",
       "      <td>874.98</td>\n",
       "      <td>White and Sons</td>\n",
       "      <td>2022-03-10</td>\n",
       "      <td>Response little some animal mention mean it so...</td>\n",
       "      <td>F00093938</td>\n",
       "      <td>C00002033</td>\n",
       "      <td>Email</td>\n",
       "      <td>2024-07-20</td>\n",
       "      <td>3</td>\n",
       "      <td>Cultural knowledge issue page health maybe sig...</td>\n",
       "      <td>Neutral</td>\n",
       "    </tr>\n",
       "    <tr>\n",
       "      <th>99997</th>\n",
       "      <td>P00001000</td>\n",
       "      <td>Anyone</td>\n",
       "      <td>Electronics</td>\n",
       "      <td>874.98</td>\n",
       "      <td>White and Sons</td>\n",
       "      <td>2022-03-10</td>\n",
       "      <td>Response little some animal mention mean it so...</td>\n",
       "      <td>F00095707</td>\n",
       "      <td>C00008017</td>\n",
       "      <td>Social Media</td>\n",
       "      <td>2024-04-28</td>\n",
       "      <td>4</td>\n",
       "      <td>Recent argue source from card their wall produ...</td>\n",
       "      <td>Neutral</td>\n",
       "    </tr>\n",
       "    <tr>\n",
       "      <th>99998</th>\n",
       "      <td>P00001000</td>\n",
       "      <td>Anyone</td>\n",
       "      <td>Electronics</td>\n",
       "      <td>874.98</td>\n",
       "      <td>White and Sons</td>\n",
       "      <td>2022-03-10</td>\n",
       "      <td>Response little some animal mention mean it so...</td>\n",
       "      <td>F00097954</td>\n",
       "      <td>C00026535</td>\n",
       "      <td>Social Media</td>\n",
       "      <td>2024-06-12</td>\n",
       "      <td>3</td>\n",
       "      <td>Soldier employee hotel morning major particula...</td>\n",
       "      <td>Positive</td>\n",
       "    </tr>\n",
       "    <tr>\n",
       "      <th>99999</th>\n",
       "      <td>P00001000</td>\n",
       "      <td>Anyone</td>\n",
       "      <td>Electronics</td>\n",
       "      <td>874.98</td>\n",
       "      <td>White and Sons</td>\n",
       "      <td>2022-03-10</td>\n",
       "      <td>Response little some animal mention mean it so...</td>\n",
       "      <td>F00099287</td>\n",
       "      <td>C00029998</td>\n",
       "      <td>Survey</td>\n",
       "      <td>2024-05-06</td>\n",
       "      <td>5</td>\n",
       "      <td>On clearly last do any decision what blood ope...</td>\n",
       "      <td>Positive</td>\n",
       "    </tr>\n",
       "  </tbody>\n",
       "</table>\n",
       "<p>100000 rows × 14 columns</p>\n",
       "</div>"
      ],
      "text/plain": [
       "      Product_ID Product_Name     Category   Price  \\\n",
       "0      P00000001        Those  Electronics  357.11   \n",
       "1      P00000001        Those  Electronics  357.11   \n",
       "2      P00000001        Those  Electronics  357.11   \n",
       "3      P00000001        Those  Electronics  357.11   \n",
       "4      P00000001        Those  Electronics  357.11   \n",
       "...          ...          ...          ...     ...   \n",
       "99995  P00001000       Anyone  Electronics  874.98   \n",
       "99996  P00001000       Anyone  Electronics  874.98   \n",
       "99997  P00001000       Anyone  Electronics  874.98   \n",
       "99998  P00001000       Anyone  Electronics  874.98   \n",
       "99999  P00001000       Anyone  Electronics  874.98   \n",
       "\n",
       "                     Manufacturer Launch_Date  \\\n",
       "0      Warren, Duncan and Carlson  2020-02-29   \n",
       "1      Warren, Duncan and Carlson  2020-02-29   \n",
       "2      Warren, Duncan and Carlson  2020-02-29   \n",
       "3      Warren, Duncan and Carlson  2020-02-29   \n",
       "4      Warren, Duncan and Carlson  2020-02-29   \n",
       "...                           ...         ...   \n",
       "99995              White and Sons  2022-03-10   \n",
       "99996              White and Sons  2022-03-10   \n",
       "99997              White and Sons  2022-03-10   \n",
       "99998              White and Sons  2022-03-10   \n",
       "99999              White and Sons  2022-03-10   \n",
       "\n",
       "                                             Description Feedback_ID  \\\n",
       "0      Between have film increase across no speech kn...   F00000247   \n",
       "1      Between have film increase across no speech kn...   F00001204   \n",
       "2      Between have film increase across no speech kn...   F00002206   \n",
       "3      Between have film increase across no speech kn...   F00002595   \n",
       "4      Between have film increase across no speech kn...   F00004979   \n",
       "...                                                  ...         ...   \n",
       "99995  Response little some animal mention mean it so...   F00091835   \n",
       "99996  Response little some animal mention mean it so...   F00093938   \n",
       "99997  Response little some animal mention mean it so...   F00095707   \n",
       "99998  Response little some animal mention mean it so...   F00097954   \n",
       "99999  Response little some animal mention mean it so...   F00099287   \n",
       "\n",
       "      Customer_ID Feedback_Type Feedback_Date  Rating  \\\n",
       "0       C00038556         Email    2024-08-24       1   \n",
       "1       C00007699         Email    2024-05-13       3   \n",
       "2       C00048182  Social Media    2024-03-14       1   \n",
       "3       C00036559         Email    2024-06-30       3   \n",
       "4       C00048283         Email    2024-03-31       1   \n",
       "...           ...           ...           ...     ...   \n",
       "99995   C00015183        Survey    2024-06-11       3   \n",
       "99996   C00002033         Email    2024-07-20       3   \n",
       "99997   C00008017  Social Media    2024-04-28       4   \n",
       "99998   C00026535  Social Media    2024-06-12       3   \n",
       "99999   C00029998        Survey    2024-05-06       5   \n",
       "\n",
       "                                                 Comment Sentiment_Label  \n",
       "0      Adult soldier consider lay one down room publi...         Neutral  \n",
       "1      Cut heavy throw health clear discuss activity ...        Positive  \n",
       "2      Hair piece physical key especially writer call...         Neutral  \n",
       "3      Stage choose ok follow effect new somebody dog...         Neutral  \n",
       "4      Culture artist pattern write heavy serious ind...        Negative  \n",
       "...                                                  ...             ...  \n",
       "99995  Record compare policy too task history door mi...        Positive  \n",
       "99996  Cultural knowledge issue page health maybe sig...         Neutral  \n",
       "99997  Recent argue source from card their wall produ...         Neutral  \n",
       "99998  Soldier employee hotel morning major particula...        Positive  \n",
       "99999  On clearly last do any decision what blood ope...        Positive  \n",
       "\n",
       "[100000 rows x 14 columns]"
      ]
     },
     "execution_count": 14,
     "metadata": {},
     "output_type": "execute_result"
    }
   ],
   "source": [
    "Data2"
   ]
  },
  {
   "cell_type": "markdown",
   "metadata": {},
   "source": [
    "Task 3.1: Sentiment Distribution Analysis\n",
    "\n",
    "Analyze the distribution of sentiment labels (Positive, Neutral, Negative) across different feedback types and products."
   ]
  },
  {
   "cell_type": "code",
   "execution_count": 15,
   "metadata": {},
   "outputs": [],
   "source": [
    "df=Data2.filter(items=[\"Product_Name\",\"Feedback_Type\",\"Sentiment_Label\"])"
   ]
  },
  {
   "cell_type": "code",
   "execution_count": 16,
   "metadata": {},
   "outputs": [
    {
     "data": {
      "text/html": [
       "<div>\n",
       "<style scoped>\n",
       "    .dataframe tbody tr th:only-of-type {\n",
       "        vertical-align: middle;\n",
       "    }\n",
       "\n",
       "    .dataframe tbody tr th {\n",
       "        vertical-align: top;\n",
       "    }\n",
       "\n",
       "    .dataframe thead th {\n",
       "        text-align: right;\n",
       "    }\n",
       "</style>\n",
       "<table border=\"1\" class=\"dataframe\">\n",
       "  <thead>\n",
       "    <tr style=\"text-align: right;\">\n",
       "      <th></th>\n",
       "      <th>Product_Name</th>\n",
       "      <th>Feedback_Type</th>\n",
       "      <th>Sentiment_Label</th>\n",
       "    </tr>\n",
       "  </thead>\n",
       "  <tbody>\n",
       "    <tr>\n",
       "      <th>0</th>\n",
       "      <td>Those</td>\n",
       "      <td>Email</td>\n",
       "      <td>Neutral</td>\n",
       "    </tr>\n",
       "    <tr>\n",
       "      <th>1</th>\n",
       "      <td>Those</td>\n",
       "      <td>Email</td>\n",
       "      <td>Positive</td>\n",
       "    </tr>\n",
       "    <tr>\n",
       "      <th>2</th>\n",
       "      <td>Those</td>\n",
       "      <td>Social Media</td>\n",
       "      <td>Neutral</td>\n",
       "    </tr>\n",
       "    <tr>\n",
       "      <th>3</th>\n",
       "      <td>Those</td>\n",
       "      <td>Email</td>\n",
       "      <td>Neutral</td>\n",
       "    </tr>\n",
       "    <tr>\n",
       "      <th>4</th>\n",
       "      <td>Those</td>\n",
       "      <td>Email</td>\n",
       "      <td>Negative</td>\n",
       "    </tr>\n",
       "    <tr>\n",
       "      <th>...</th>\n",
       "      <td>...</td>\n",
       "      <td>...</td>\n",
       "      <td>...</td>\n",
       "    </tr>\n",
       "    <tr>\n",
       "      <th>99995</th>\n",
       "      <td>Anyone</td>\n",
       "      <td>Survey</td>\n",
       "      <td>Positive</td>\n",
       "    </tr>\n",
       "    <tr>\n",
       "      <th>99996</th>\n",
       "      <td>Anyone</td>\n",
       "      <td>Email</td>\n",
       "      <td>Neutral</td>\n",
       "    </tr>\n",
       "    <tr>\n",
       "      <th>99997</th>\n",
       "      <td>Anyone</td>\n",
       "      <td>Social Media</td>\n",
       "      <td>Neutral</td>\n",
       "    </tr>\n",
       "    <tr>\n",
       "      <th>99998</th>\n",
       "      <td>Anyone</td>\n",
       "      <td>Social Media</td>\n",
       "      <td>Positive</td>\n",
       "    </tr>\n",
       "    <tr>\n",
       "      <th>99999</th>\n",
       "      <td>Anyone</td>\n",
       "      <td>Survey</td>\n",
       "      <td>Positive</td>\n",
       "    </tr>\n",
       "  </tbody>\n",
       "</table>\n",
       "<p>100000 rows × 3 columns</p>\n",
       "</div>"
      ],
      "text/plain": [
       "      Product_Name Feedback_Type Sentiment_Label\n",
       "0            Those         Email         Neutral\n",
       "1            Those         Email        Positive\n",
       "2            Those  Social Media         Neutral\n",
       "3            Those         Email         Neutral\n",
       "4            Those         Email        Negative\n",
       "...            ...           ...             ...\n",
       "99995       Anyone        Survey        Positive\n",
       "99996       Anyone         Email         Neutral\n",
       "99997       Anyone  Social Media         Neutral\n",
       "99998       Anyone  Social Media        Positive\n",
       "99999       Anyone        Survey        Positive\n",
       "\n",
       "[100000 rows x 3 columns]"
      ]
     },
     "execution_count": 16,
     "metadata": {},
     "output_type": "execute_result"
    }
   ],
   "source": [
    "df"
   ]
  },
  {
   "cell_type": "code",
   "execution_count": 17,
   "metadata": {},
   "outputs": [],
   "source": [
    "feedback_type_sentiment = df['Sentiment_Label'].value_counts(normalize=True)*100"
   ]
  },
  {
   "cell_type": "code",
   "execution_count": 18,
   "metadata": {},
   "outputs": [],
   "source": [
    "product_sentiment = df.groupby('Product_Name')['Sentiment_Label'].value_counts(normalize=True) * 100"
   ]
  },
  {
   "cell_type": "code",
   "execution_count": 19,
   "metadata": {},
   "outputs": [
    {
     "name": "stdout",
     "output_type": "stream",
     "text": [
      "Sentiment Distribution by Feedback Type:\n",
      "Sentiment_Label\n",
      "Neutral     33.366\n",
      "Positive    33.319\n",
      "Negative    33.315\n",
      "Name: proportion, dtype: float64\n",
      "\n",
      "Sentiment Distribution by Product:\n",
      "Product_Name  Sentiment_Label\n",
      "A             Neutral            39.325843\n",
      "              Negative           32.022472\n",
      "              Positive           28.651685\n",
      "Ability       Positive           36.448598\n",
      "              Negative           33.644860\n",
      "                                   ...    \n",
      "Young         Negative           34.158416\n",
      "              Neutral            31.188119\n",
      "Yourself      Negative           34.871795\n",
      "              Positive           32.820513\n",
      "              Neutral            32.307692\n",
      "Name: proportion, Length: 1818, dtype: float64\n"
     ]
    }
   ],
   "source": [
    "print(\"Sentiment Distribution by Feedback Type:\")\n",
    "print(feedback_type_sentiment)\n",
    "print(\"\\nSentiment Distribution by Product:\")\n",
    "print(product_sentiment)"
   ]
  },
  {
   "cell_type": "code",
   "execution_count": 20,
   "metadata": {},
   "outputs": [
    {
     "data": {
      "image/png": "[encoded data removed]",
      "text/plain": [
       "<Figure size 640x480 with 1 Axes>"
      ]
     },
     "metadata": {},
     "output_type": "display_data"
    }
   ],
   "source": [
    "df['Sentiment_Label'].value_counts(normalize=True).plot(kind='bar')\n",
    "plt.title('Sentiment Distribution by Feedback Type')\n",
    "plt.xlabel('Sentiment_Label')\n",
    "plt.ylabel('Percentage')\n",
    "plt.show()"
   ]
  },
  {
   "cell_type": "code",
   "execution_count": 21,
   "metadata": {},
   "outputs": [
    {
     "data": {
      "image/png": "[encoded data removed]",
      "text/plain": [
       "<Figure size 640x480 with 1 Axes>"
      ]
     },
     "metadata": {},
     "output_type": "display_data"
    },
    {
     "data": {
      "text/plain": [
       "<Figure size 8000x4000 with 0 Axes>"
      ]
     },
     "metadata": {},
     "output_type": "display_data"
    }
   ],
   "source": [
    "product_sentiment.unstack().plot(kind='bar')\n",
    "plt.title('Sentiment Distribution by Product')\n",
    "plt.xlabel('Product_Name')\n",
    "plt.ylabel('Percentage')\n",
    "plt.figure(figsize=(20,10),dpi=400)\n",
    "plt.show()\n"
   ]
  },
  {
   "cell_type": "markdown",
   "metadata": {},
   "source": [
    "Task 3.2: Feedback Analysis\n",
    "\n",
    "Perform natural language processing (NLP) to extract insights from the feedback comments, such as common themes or keywords."
   ]
  },
  {
   "cell_type": "code",
   "execution_count": 22,
   "metadata": {},
   "outputs": [],
   "source": [
    "import nltk\n",
    "from nltk.corpus import stopwords\n",
    "from nltk.stem import WordNetLemmatizer\n",
    "from nltk.tokenize import word_tokenize\n",
    "from collections import Counter\n",
    "import string"
   ]
  },
  {
   "cell_type": "code",
   "execution_count": 23,
   "metadata": {},
   "outputs": [],
   "source": [
    "feedback_comments = [\n",
    "    \"Term paper differentexpect old speech of patt...\",\n",
    "    \"Smile use place cut outside medical stop identify\",\n",
    "    \"Determine ground point staff speech degree tra\",\n",
    "    \"Theory use main finish ball office maintain se\",\n",
    "    \"Join threat check certain popular him we sever\",\n",
    "    \"Head require paper article several significant\",\n",
    "  \n",
    "    \"Letter have tell like believe read attorney th\",\n",
    "\t\n",
    "]"
   ]
  },
  {
   "cell_type": "code",
   "execution_count": 24,
   "metadata": {},
   "outputs": [],
   "source": [
    "stop_words=set(stopwords.words(\"english\"))\n",
    "lemmatizer=WordNetLemmatizer()\n",
    "tokens=[lemmatizer.lemmatize(word)\n",
    "        for comment in feedback_comments \n",
    "        for word in word_tokenize(comment)\n",
    "         if word.isalpha() and word.lower() not in stop_words ]"
   ]
  },
  {
   "cell_type": "code",
   "execution_count": 25,
   "metadata": {},
   "outputs": [],
   "source": [
    "common_themes=Counter(tokens).most_common(10)\n",
    "keyword =[word for word,freq in common_themes if freq>1]"
   ]
  },
  {
   "cell_type": "code",
   "execution_count": 26,
   "metadata": {},
   "outputs": [
    {
     "name": "stdout",
     "output_type": "stream",
     "text": [
      "Common_themes:\n",
      "paper:2\n",
      "speech:2\n",
      "use:2\n",
      "Term:1\n",
      "differentexpect:1\n",
      "old:1\n",
      "patt:1\n",
      "Smile:1\n",
      "place:1\n",
      "cut:1\n"
     ]
    }
   ],
   "source": [
    "print(\"Common_themes:\") \n",
    "for word, freq  in common_themes:\n",
    "    print(f\"{word}:{freq}\")"
   ]
  },
  {
   "cell_type": "code",
   "execution_count": 27,
   "metadata": {},
   "outputs": [
    {
     "name": "stdout",
     "output_type": "stream",
     "text": [
      " Keywords:\n",
      "['paper', 'speech', 'use']\n"
     ]
    }
   ],
   "source": [
    "print(\" Keywords:\")\n",
    "print(keyword)"
   ]
  },
  {
   "cell_type": "markdown",
   "metadata": {},
   "source": [
    "Task 3.3: Customer Demographics Impact\n",
    "\n",
    "Examine how customer demographics (age, gender, location) influence sentiment and feedback."
   ]
  },
  {
   "cell_type": "code",
   "execution_count": 28,
   "metadata": {},
   "outputs": [],
   "source": [
    "df1=Data1.filter(items=[\"Age\",\"Gender\",\"Location\",\"Sentiment_Label\"])"
   ]
  },
  {
   "cell_type": "code",
   "execution_count": 29,
   "metadata": {},
   "outputs": [
    {
     "data": {
      "text/html": [
       "<div>\n",
       "<style scoped>\n",
       "    .dataframe tbody tr th:only-of-type {\n",
       "        vertical-align: middle;\n",
       "    }\n",
       "\n",
       "    .dataframe tbody tr th {\n",
       "        vertical-align: top;\n",
       "    }\n",
       "\n",
       "    .dataframe thead th {\n",
       "        text-align: right;\n",
       "    }\n",
       "</style>\n",
       "<table border=\"1\" class=\"dataframe\">\n",
       "  <thead>\n",
       "    <tr style=\"text-align: right;\">\n",
       "      <th></th>\n",
       "      <th>Age</th>\n",
       "      <th>Gender</th>\n",
       "      <th>Location</th>\n",
       "      <th>Sentiment_Label</th>\n",
       "    </tr>\n",
       "  </thead>\n",
       "  <tbody>\n",
       "    <tr>\n",
       "      <th>0</th>\n",
       "      <td>52</td>\n",
       "      <td>Female</td>\n",
       "      <td>Kennethville</td>\n",
       "      <td>Negative</td>\n",
       "    </tr>\n",
       "    <tr>\n",
       "      <th>1</th>\n",
       "      <td>19</td>\n",
       "      <td>Male</td>\n",
       "      <td>Erinfort</td>\n",
       "      <td>Positive</td>\n",
       "    </tr>\n",
       "    <tr>\n",
       "      <th>2</th>\n",
       "      <td>37</td>\n",
       "      <td>Female</td>\n",
       "      <td>Galvanville</td>\n",
       "      <td>Neutral</td>\n",
       "    </tr>\n",
       "    <tr>\n",
       "      <th>3</th>\n",
       "      <td>37</td>\n",
       "      <td>Female</td>\n",
       "      <td>Galvanville</td>\n",
       "      <td>Positive</td>\n",
       "    </tr>\n",
       "    <tr>\n",
       "      <th>4</th>\n",
       "      <td>37</td>\n",
       "      <td>Female</td>\n",
       "      <td>Galvanville</td>\n",
       "      <td>Negative</td>\n",
       "    </tr>\n",
       "    <tr>\n",
       "      <th>...</th>\n",
       "      <td>...</td>\n",
       "      <td>...</td>\n",
       "      <td>...</td>\n",
       "      <td>...</td>\n",
       "    </tr>\n",
       "    <tr>\n",
       "      <th>99995</th>\n",
       "      <td>43</td>\n",
       "      <td>Male</td>\n",
       "      <td>New Mathewchester</td>\n",
       "      <td>Neutral</td>\n",
       "    </tr>\n",
       "    <tr>\n",
       "      <th>99996</th>\n",
       "      <td>43</td>\n",
       "      <td>Male</td>\n",
       "      <td>New Mathewchester</td>\n",
       "      <td>Negative</td>\n",
       "    </tr>\n",
       "    <tr>\n",
       "      <th>99997</th>\n",
       "      <td>50</td>\n",
       "      <td>Female</td>\n",
       "      <td>East Georgetown</td>\n",
       "      <td>Negative</td>\n",
       "    </tr>\n",
       "    <tr>\n",
       "      <th>99998</th>\n",
       "      <td>50</td>\n",
       "      <td>Female</td>\n",
       "      <td>East Georgetown</td>\n",
       "      <td>Positive</td>\n",
       "    </tr>\n",
       "    <tr>\n",
       "      <th>99999</th>\n",
       "      <td>50</td>\n",
       "      <td>Female</td>\n",
       "      <td>East Georgetown</td>\n",
       "      <td>Neutral</td>\n",
       "    </tr>\n",
       "  </tbody>\n",
       "</table>\n",
       "<p>100000 rows × 4 columns</p>\n",
       "</div>"
      ],
      "text/plain": [
       "       Age  Gender           Location Sentiment_Label\n",
       "0       52  Female       Kennethville        Negative\n",
       "1       19    Male           Erinfort        Positive\n",
       "2       37  Female        Galvanville         Neutral\n",
       "3       37  Female        Galvanville        Positive\n",
       "4       37  Female        Galvanville        Negative\n",
       "...    ...     ...                ...             ...\n",
       "99995   43    Male  New Mathewchester         Neutral\n",
       "99996   43    Male  New Mathewchester        Negative\n",
       "99997   50  Female    East Georgetown        Negative\n",
       "99998   50  Female    East Georgetown        Positive\n",
       "99999   50  Female    East Georgetown         Neutral\n",
       "\n",
       "[100000 rows x 4 columns]"
      ]
     },
     "execution_count": 29,
     "metadata": {},
     "output_type": "execute_result"
    }
   ],
   "source": [
    "df1"
   ]
  },
  {
   "cell_type": "markdown",
   "metadata": {},
   "source": [
    "Group by demographic and calculate sentiment counts"
   ]
  },
  {
   "cell_type": "code",
   "execution_count": 30,
   "metadata": {},
   "outputs": [],
   "source": [
    "age_sentiment=df1.groupby([\"Age\",\"Sentiment_Label\"]).size()\n",
    "gender_sentiment=df1.groupby([\"Gender\",\"Sentiment_Label\"]).size()\n",
    "location_sentiment=df1.groupby([\"Location\",\"Sentiment_Label\"]).size()"
   ]
  },
  {
   "cell_type": "code",
   "execution_count": 31,
   "metadata": {},
   "outputs": [
    {
     "name": "stdout",
     "output_type": "stream",
     "text": [
      "Sentiment Distribution by Age:  \n",
      "Age  Sentiment_Label\n",
      "18   Negative           657\n",
      "     Neutral            661\n",
      "     Positive           687\n",
      "19   Negative           652\n",
      "     Neutral            689\n",
      "                       ... \n",
      "68   Neutral            655\n",
      "     Positive           680\n",
      "69   Negative           636\n",
      "     Neutral            638\n",
      "     Positive           600\n",
      "Length: 156, dtype: int64\n",
      "\n",
      "Sentiment Distributon by Gender:  \n",
      "Gender  Sentiment_Label\n",
      "Female  Negative           16646\n",
      "        Neutral            16648\n",
      "        Positive           16583\n",
      "Male    Negative           16669\n",
      "        Neutral            16718\n",
      "        Positive           16736\n",
      "dtype: int64\n",
      "\n",
      "Sentiment Distribution by Location:  \n",
      "Location      Sentiment_Label\n",
      "Aaronberg     Negative           4\n",
      "              Positive           2\n",
      "Aaronborough  Neutral            2\n",
      "              Positive           3\n",
      "Aaronburgh    Negative           5\n",
      "                                ..\n",
      "Zoemouth      Negative           1\n",
      "              Positive           3\n",
      "Zunigaport    Negative           2\n",
      "              Neutral            2\n",
      "              Positive           2\n",
      "Length: 46045, dtype: int64\n"
     ]
    }
   ],
   "source": [
    "print(\"Sentiment Distribution by Age:  \")\n",
    "print(age_sentiment)\n",
    "print(\"\\nSentiment Distributon by Gender:  \")\n",
    "print(gender_sentiment)\n",
    "print(\"\\nSentiment Distribution by Location:  \")\n",
    "print(location_sentiment)"
   ]
  },
  {
   "cell_type": "markdown",
   "metadata": {},
   "source": [
    "Visulize the Results"
   ]
  },
  {
   "cell_type": "code",
   "execution_count": 32,
   "metadata": {},
   "outputs": [
    {
     "data": {
      "image/png": "[encoded data removed]",
      "text/plain": [
       "<Figure size 640x480 with 1 Axes>"
      ]
     },
     "metadata": {},
     "output_type": "display_data"
    }
   ],
   "source": [
    "age_sentiment.unstack().plot(kind=\"bar\")\n",
    "plt.title(\"Sentiment by Age\")\n",
    "plt.show()"
   ]
  },
  {
   "cell_type": "code",
   "execution_count": 33,
   "metadata": {},
   "outputs": [
    {
     "data": {
      "image/png": "[encoded data removed]",
      "text/plain": [
       "<Figure size 640x480 with 1 Axes>"
      ]
     },
     "metadata": {},
     "output_type": "display_data"
    }
   ],
   "source": [
    "gender_sentiment.unstack().plot(kind=\"bar\")\n",
    "plt.title(\"Sentiment by Gender\")\n",
    "plt.show()"
   ]
  },
  {
   "cell_type": "code",
   "execution_count": 34,
   "metadata": {},
   "outputs": [
    {
     "data": {
      "image/png": "[encoded data removed]",
      "text/plain": [
       "<Figure size 640x480 with 1 Axes>"
      ]
     },
     "metadata": {},
     "output_type": "display_data"
    }
   ],
   "source": [
    "location_sentiment.unstack().plot(kind=\"line\")\n",
    "plt.title(\"Sentiment by Location\")\n",
    "plt.show()"
   ]
  },
  {
   "cell_type": "markdown",
   "metadata": {},
   "source": [
    "Task 3.4: Product/Service Analysis\n",
    "\n",
    "Assess feedback sentiment related to different products/services and identify trends or issues."
   ]
  },
  {
   "cell_type": "code",
   "execution_count": 35,
   "metadata": {},
   "outputs": [
    {
     "data": {
      "text/html": [
       "<div>\n",
       "<style scoped>\n",
       "    .dataframe tbody tr th:only-of-type {\n",
       "        vertical-align: middle;\n",
       "    }\n",
       "\n",
       "    .dataframe tbody tr th {\n",
       "        vertical-align: top;\n",
       "    }\n",
       "\n",
       "    .dataframe thead th {\n",
       "        text-align: right;\n",
       "    }\n",
       "</style>\n",
       "<table border=\"1\" class=\"dataframe\">\n",
       "  <thead>\n",
       "    <tr style=\"text-align: right;\">\n",
       "      <th></th>\n",
       "      <th>Product_ID</th>\n",
       "      <th>Product_Name</th>\n",
       "      <th>Category</th>\n",
       "      <th>Price</th>\n",
       "      <th>Manufacturer</th>\n",
       "      <th>Launch_Date</th>\n",
       "      <th>Description</th>\n",
       "      <th>Feedback_ID</th>\n",
       "      <th>Customer_ID</th>\n",
       "      <th>Feedback_Type</th>\n",
       "      <th>Feedback_Date</th>\n",
       "      <th>Rating</th>\n",
       "      <th>Comment</th>\n",
       "      <th>Sentiment_Label</th>\n",
       "    </tr>\n",
       "  </thead>\n",
       "  <tbody>\n",
       "    <tr>\n",
       "      <th>0</th>\n",
       "      <td>P00000001</td>\n",
       "      <td>Those</td>\n",
       "      <td>Electronics</td>\n",
       "      <td>357.11</td>\n",
       "      <td>Warren, Duncan and Carlson</td>\n",
       "      <td>2020-02-29</td>\n",
       "      <td>Between have film increase across no speech kn...</td>\n",
       "      <td>F00000247</td>\n",
       "      <td>C00038556</td>\n",
       "      <td>Email</td>\n",
       "      <td>2024-08-24</td>\n",
       "      <td>1</td>\n",
       "      <td>Adult soldier consider lay one down room publi...</td>\n",
       "      <td>Neutral</td>\n",
       "    </tr>\n",
       "    <tr>\n",
       "      <th>1</th>\n",
       "      <td>P00000001</td>\n",
       "      <td>Those</td>\n",
       "      <td>Electronics</td>\n",
       "      <td>357.11</td>\n",
       "      <td>Warren, Duncan and Carlson</td>\n",
       "      <td>2020-02-29</td>\n",
       "      <td>Between have film increase across no speech kn...</td>\n",
       "      <td>F00001204</td>\n",
       "      <td>C00007699</td>\n",
       "      <td>Email</td>\n",
       "      <td>2024-05-13</td>\n",
       "      <td>3</td>\n",
       "      <td>Cut heavy throw health clear discuss activity ...</td>\n",
       "      <td>Positive</td>\n",
       "    </tr>\n",
       "    <tr>\n",
       "      <th>2</th>\n",
       "      <td>P00000001</td>\n",
       "      <td>Those</td>\n",
       "      <td>Electronics</td>\n",
       "      <td>357.11</td>\n",
       "      <td>Warren, Duncan and Carlson</td>\n",
       "      <td>2020-02-29</td>\n",
       "      <td>Between have film increase across no speech kn...</td>\n",
       "      <td>F00002206</td>\n",
       "      <td>C00048182</td>\n",
       "      <td>Social Media</td>\n",
       "      <td>2024-03-14</td>\n",
       "      <td>1</td>\n",
       "      <td>Hair piece physical key especially writer call...</td>\n",
       "      <td>Neutral</td>\n",
       "    </tr>\n",
       "    <tr>\n",
       "      <th>3</th>\n",
       "      <td>P00000001</td>\n",
       "      <td>Those</td>\n",
       "      <td>Electronics</td>\n",
       "      <td>357.11</td>\n",
       "      <td>Warren, Duncan and Carlson</td>\n",
       "      <td>2020-02-29</td>\n",
       "      <td>Between have film increase across no speech kn...</td>\n",
       "      <td>F00002595</td>\n",
       "      <td>C00036559</td>\n",
       "      <td>Email</td>\n",
       "      <td>2024-06-30</td>\n",
       "      <td>3</td>\n",
       "      <td>Stage choose ok follow effect new somebody dog...</td>\n",
       "      <td>Neutral</td>\n",
       "    </tr>\n",
       "    <tr>\n",
       "      <th>4</th>\n",
       "      <td>P00000001</td>\n",
       "      <td>Those</td>\n",
       "      <td>Electronics</td>\n",
       "      <td>357.11</td>\n",
       "      <td>Warren, Duncan and Carlson</td>\n",
       "      <td>2020-02-29</td>\n",
       "      <td>Between have film increase across no speech kn...</td>\n",
       "      <td>F00004979</td>\n",
       "      <td>C00048283</td>\n",
       "      <td>Email</td>\n",
       "      <td>2024-03-31</td>\n",
       "      <td>1</td>\n",
       "      <td>Culture artist pattern write heavy serious ind...</td>\n",
       "      <td>Negative</td>\n",
       "    </tr>\n",
       "    <tr>\n",
       "      <th>...</th>\n",
       "      <td>...</td>\n",
       "      <td>...</td>\n",
       "      <td>...</td>\n",
       "      <td>...</td>\n",
       "      <td>...</td>\n",
       "      <td>...</td>\n",
       "      <td>...</td>\n",
       "      <td>...</td>\n",
       "      <td>...</td>\n",
       "      <td>...</td>\n",
       "      <td>...</td>\n",
       "      <td>...</td>\n",
       "      <td>...</td>\n",
       "      <td>...</td>\n",
       "    </tr>\n",
       "    <tr>\n",
       "      <th>99995</th>\n",
       "      <td>P00001000</td>\n",
       "      <td>Anyone</td>\n",
       "      <td>Electronics</td>\n",
       "      <td>874.98</td>\n",
       "      <td>White and Sons</td>\n",
       "      <td>2022-03-10</td>\n",
       "      <td>Response little some animal mention mean it so...</td>\n",
       "      <td>F00091835</td>\n",
       "      <td>C00015183</td>\n",
       "      <td>Survey</td>\n",
       "      <td>2024-06-11</td>\n",
       "      <td>3</td>\n",
       "      <td>Record compare policy too task history door mi...</td>\n",
       "      <td>Positive</td>\n",
       "    </tr>\n",
       "    <tr>\n",
       "      <th>99996</th>\n",
       "      <td>P00001000</td>\n",
       "      <td>Anyone</td>\n",
       "      <td>Electronics</td>\n",
       "      <td>874.98</td>\n",
       "      <td>White and Sons</td>\n",
       "      <td>2022-03-10</td>\n",
       "      <td>Response little some animal mention mean it so...</td>\n",
       "      <td>F00093938</td>\n",
       "      <td>C00002033</td>\n",
       "      <td>Email</td>\n",
       "      <td>2024-07-20</td>\n",
       "      <td>3</td>\n",
       "      <td>Cultural knowledge issue page health maybe sig...</td>\n",
       "      <td>Neutral</td>\n",
       "    </tr>\n",
       "    <tr>\n",
       "      <th>99997</th>\n",
       "      <td>P00001000</td>\n",
       "      <td>Anyone</td>\n",
       "      <td>Electronics</td>\n",
       "      <td>874.98</td>\n",
       "      <td>White and Sons</td>\n",
       "      <td>2022-03-10</td>\n",
       "      <td>Response little some animal mention mean it so...</td>\n",
       "      <td>F00095707</td>\n",
       "      <td>C00008017</td>\n",
       "      <td>Social Media</td>\n",
       "      <td>2024-04-28</td>\n",
       "      <td>4</td>\n",
       "      <td>Recent argue source from card their wall produ...</td>\n",
       "      <td>Neutral</td>\n",
       "    </tr>\n",
       "    <tr>\n",
       "      <th>99998</th>\n",
       "      <td>P00001000</td>\n",
       "      <td>Anyone</td>\n",
       "      <td>Electronics</td>\n",
       "      <td>874.98</td>\n",
       "      <td>White and Sons</td>\n",
       "      <td>2022-03-10</td>\n",
       "      <td>Response little some animal mention mean it so...</td>\n",
       "      <td>F00097954</td>\n",
       "      <td>C00026535</td>\n",
       "      <td>Social Media</td>\n",
       "      <td>2024-06-12</td>\n",
       "      <td>3</td>\n",
       "      <td>Soldier employee hotel morning major particula...</td>\n",
       "      <td>Positive</td>\n",
       "    </tr>\n",
       "    <tr>\n",
       "      <th>99999</th>\n",
       "      <td>P00001000</td>\n",
       "      <td>Anyone</td>\n",
       "      <td>Electronics</td>\n",
       "      <td>874.98</td>\n",
       "      <td>White and Sons</td>\n",
       "      <td>2022-03-10</td>\n",
       "      <td>Response little some animal mention mean it so...</td>\n",
       "      <td>F00099287</td>\n",
       "      <td>C00029998</td>\n",
       "      <td>Survey</td>\n",
       "      <td>2024-05-06</td>\n",
       "      <td>5</td>\n",
       "      <td>On clearly last do any decision what blood ope...</td>\n",
       "      <td>Positive</td>\n",
       "    </tr>\n",
       "  </tbody>\n",
       "</table>\n",
       "<p>100000 rows × 14 columns</p>\n",
       "</div>"
      ],
      "text/plain": [
       "      Product_ID Product_Name     Category   Price  \\\n",
       "0      P00000001        Those  Electronics  357.11   \n",
       "1      P00000001        Those  Electronics  357.11   \n",
       "2      P00000001        Those  Electronics  357.11   \n",
       "3      P00000001        Those  Electronics  357.11   \n",
       "4      P00000001        Those  Electronics  357.11   \n",
       "...          ...          ...          ...     ...   \n",
       "99995  P00001000       Anyone  Electronics  874.98   \n",
       "99996  P00001000       Anyone  Electronics  874.98   \n",
       "99997  P00001000       Anyone  Electronics  874.98   \n",
       "99998  P00001000       Anyone  Electronics  874.98   \n",
       "99999  P00001000       Anyone  Electronics  874.98   \n",
       "\n",
       "                     Manufacturer Launch_Date  \\\n",
       "0      Warren, Duncan and Carlson  2020-02-29   \n",
       "1      Warren, Duncan and Carlson  2020-02-29   \n",
       "2      Warren, Duncan and Carlson  2020-02-29   \n",
       "3      Warren, Duncan and Carlson  2020-02-29   \n",
       "4      Warren, Duncan and Carlson  2020-02-29   \n",
       "...                           ...         ...   \n",
       "99995              White and Sons  2022-03-10   \n",
       "99996              White and Sons  2022-03-10   \n",
       "99997              White and Sons  2022-03-10   \n",
       "99998              White and Sons  2022-03-10   \n",
       "99999              White and Sons  2022-03-10   \n",
       "\n",
       "                                             Description Feedback_ID  \\\n",
       "0      Between have film increase across no speech kn...   F00000247   \n",
       "1      Between have film increase across no speech kn...   F00001204   \n",
       "2      Between have film increase across no speech kn...   F00002206   \n",
       "3      Between have film increase across no speech kn...   F00002595   \n",
       "4      Between have film increase across no speech kn...   F00004979   \n",
       "...                                                  ...         ...   \n",
       "99995  Response little some animal mention mean it so...   F00091835   \n",
       "99996  Response little some animal mention mean it so...   F00093938   \n",
       "99997  Response little some animal mention mean it so...   F00095707   \n",
       "99998  Response little some animal mention mean it so...   F00097954   \n",
       "99999  Response little some animal mention mean it so...   F00099287   \n",
       "\n",
       "      Customer_ID Feedback_Type Feedback_Date  Rating  \\\n",
       "0       C00038556         Email    2024-08-24       1   \n",
       "1       C00007699         Email    2024-05-13       3   \n",
       "2       C00048182  Social Media    2024-03-14       1   \n",
       "3       C00036559         Email    2024-06-30       3   \n",
       "4       C00048283         Email    2024-03-31       1   \n",
       "...           ...           ...           ...     ...   \n",
       "99995   C00015183        Survey    2024-06-11       3   \n",
       "99996   C00002033         Email    2024-07-20       3   \n",
       "99997   C00008017  Social Media    2024-04-28       4   \n",
       "99998   C00026535  Social Media    2024-06-12       3   \n",
       "99999   C00029998        Survey    2024-05-06       5   \n",
       "\n",
       "                                                 Comment Sentiment_Label  \n",
       "0      Adult soldier consider lay one down room publi...         Neutral  \n",
       "1      Cut heavy throw health clear discuss activity ...        Positive  \n",
       "2      Hair piece physical key especially writer call...         Neutral  \n",
       "3      Stage choose ok follow effect new somebody dog...         Neutral  \n",
       "4      Culture artist pattern write heavy serious ind...        Negative  \n",
       "...                                                  ...             ...  \n",
       "99995  Record compare policy too task history door mi...        Positive  \n",
       "99996  Cultural knowledge issue page health maybe sig...         Neutral  \n",
       "99997  Recent argue source from card their wall produ...         Neutral  \n",
       "99998  Soldier employee hotel morning major particula...        Positive  \n",
       "99999  On clearly last do any decision what blood ope...        Positive  \n",
       "\n",
       "[100000 rows x 14 columns]"
      ]
     },
     "execution_count": 35,
     "metadata": {},
     "output_type": "execute_result"
    }
   ],
   "source": [
    "Data2"
   ]
  },
  {
   "cell_type": "code",
   "execution_count": 36,
   "metadata": {},
   "outputs": [
    {
     "data": {
      "text/html": [
       "<div>\n",
       "<style scoped>\n",
       "    .dataframe tbody tr th:only-of-type {\n",
       "        vertical-align: middle;\n",
       "    }\n",
       "\n",
       "    .dataframe tbody tr th {\n",
       "        vertical-align: top;\n",
       "    }\n",
       "\n",
       "    .dataframe thead th {\n",
       "        text-align: right;\n",
       "    }\n",
       "</style>\n",
       "<table border=\"1\" class=\"dataframe\">\n",
       "  <thead>\n",
       "    <tr style=\"text-align: right;\">\n",
       "      <th></th>\n",
       "      <th>Product_Name</th>\n",
       "      <th>Feedback_Type</th>\n",
       "      <th>Rating</th>\n",
       "    </tr>\n",
       "  </thead>\n",
       "  <tbody>\n",
       "    <tr>\n",
       "      <th>0</th>\n",
       "      <td>Those</td>\n",
       "      <td>Email</td>\n",
       "      <td>1</td>\n",
       "    </tr>\n",
       "    <tr>\n",
       "      <th>1</th>\n",
       "      <td>Those</td>\n",
       "      <td>Email</td>\n",
       "      <td>3</td>\n",
       "    </tr>\n",
       "    <tr>\n",
       "      <th>2</th>\n",
       "      <td>Those</td>\n",
       "      <td>Social Media</td>\n",
       "      <td>1</td>\n",
       "    </tr>\n",
       "    <tr>\n",
       "      <th>3</th>\n",
       "      <td>Those</td>\n",
       "      <td>Email</td>\n",
       "      <td>3</td>\n",
       "    </tr>\n",
       "    <tr>\n",
       "      <th>4</th>\n",
       "      <td>Those</td>\n",
       "      <td>Email</td>\n",
       "      <td>1</td>\n",
       "    </tr>\n",
       "    <tr>\n",
       "      <th>...</th>\n",
       "      <td>...</td>\n",
       "      <td>...</td>\n",
       "      <td>...</td>\n",
       "    </tr>\n",
       "    <tr>\n",
       "      <th>99995</th>\n",
       "      <td>Anyone</td>\n",
       "      <td>Survey</td>\n",
       "      <td>3</td>\n",
       "    </tr>\n",
       "    <tr>\n",
       "      <th>99996</th>\n",
       "      <td>Anyone</td>\n",
       "      <td>Email</td>\n",
       "      <td>3</td>\n",
       "    </tr>\n",
       "    <tr>\n",
       "      <th>99997</th>\n",
       "      <td>Anyone</td>\n",
       "      <td>Social Media</td>\n",
       "      <td>4</td>\n",
       "    </tr>\n",
       "    <tr>\n",
       "      <th>99998</th>\n",
       "      <td>Anyone</td>\n",
       "      <td>Social Media</td>\n",
       "      <td>3</td>\n",
       "    </tr>\n",
       "    <tr>\n",
       "      <th>99999</th>\n",
       "      <td>Anyone</td>\n",
       "      <td>Survey</td>\n",
       "      <td>5</td>\n",
       "    </tr>\n",
       "  </tbody>\n",
       "</table>\n",
       "<p>100000 rows × 3 columns</p>\n",
       "</div>"
      ],
      "text/plain": [
       "      Product_Name Feedback_Type  Rating\n",
       "0            Those         Email       1\n",
       "1            Those         Email       3\n",
       "2            Those  Social Media       1\n",
       "3            Those         Email       3\n",
       "4            Those         Email       1\n",
       "...            ...           ...     ...\n",
       "99995       Anyone        Survey       3\n",
       "99996       Anyone         Email       3\n",
       "99997       Anyone  Social Media       4\n",
       "99998       Anyone  Social Media       3\n",
       "99999       Anyone        Survey       5\n",
       "\n",
       "[100000 rows x 3 columns]"
      ]
     },
     "execution_count": 36,
     "metadata": {},
     "output_type": "execute_result"
    }
   ],
   "source": [
    "Data2.filter(items=[\"Product_Name\",\"Feedback_Type\",\"Rating\"])"
   ]
  },
  {
   "cell_type": "code",
   "execution_count": 37,
   "metadata": {},
   "outputs": [],
   "source": [
    "import nltk\n",
    "from nltk.sentiment.vader import SentimentIntensityAnalyzer\n",
    "import matplotlib.pyplot as plt\n"
   ]
  },
  {
   "cell_type": "code",
   "execution_count": 38,
   "metadata": {},
   "outputs": [],
   "source": [
    "feedback_data={\n",
    "    \"Those\":[\"Email\",\"1\"],\n",
    "    \"Anyone\":[\"Survey\",\"3\"],\n",
    "    \"Worker\":[\"Social Media\",\"1\"]\n",
    "}"
   ]
  },
  {
   "cell_type": "code",
   "execution_count": 39,
   "metadata": {},
   "outputs": [],
   "source": [
    "sia=SentimentIntensityAnalyzer()\n",
    "sentiments={}\n",
    "for product, feedback in feedback_data.items():\n",
    "    sentiments[product]=[sia.polarity_scores(text)['compound']for text in feedback]\n"
   ]
  },
  {
   "cell_type": "code",
   "execution_count": 40,
   "metadata": {},
   "outputs": [
    {
     "data": {
      "image/png": "[encoded data removed]",
      "text/plain": [
       "<Figure size 1000x600 with 1 Axes>"
      ]
     },
     "metadata": {},
     "output_type": "display_data"
    },
    {
     "data": {
      "image/png": "[encoded data removed]",
      "text/plain": [
       "<Figure size 640x480 with 1 Axes>"
      ]
     },
     "metadata": {},
     "output_type": "display_data"
    },
    {
     "data": {
      "image/png": "[encoded data removed]",
      "text/plain": [
       "<Figure size 640x480 with 1 Axes>"
      ]
     },
     "metadata": {},
     "output_type": "display_data"
    }
   ],
   "source": [
    "#trend Identification\n",
    "plt.figure(figsize=(10,6))\n",
    "for i, (product, sentiment) in enumerate(sentiments.items()):\n",
    "    plt.subplot(1,len(sentiments),i+1)\n",
    "    plt.bar([\"Positive\",\"Negative\",\"Neutral\"],\n",
    "[sum(1 for s in sentiment if s>0.05),\n",
    " sum(1 for s in sentiment if s <-0.05),\n",
    " sum(1 for s in sentiment if abs(s)<=0.05)])\n",
    "    plt.title(product)\n",
    "    plt.tight_layout()\n",
    "    plt.show()\n"
   ]
  },
  {
   "cell_type": "markdown",
   "metadata": {},
   "source": [
    "Task 3.5: Time Series Analysis\n",
    "\n",
    "Investigate changes in sentiment over time and how feedback trends evolve."
   ]
  },
  {
   "cell_type": "code",
   "execution_count": 41,
   "metadata": {},
   "outputs": [],
   "source": [
    "from sklearn.feature_extraction.text import TfidfVectorizer\n",
    "from sklearn.model_selection import train_test_split\n",
    "from nltk.sentiment.vader import SentimentIntensityAnalyzer\n",
    "from statsmodels.tsa.seasonal import seasonal_decompose\n",
    "from statsmodels.tsa.stattools import adfuller\n",
    "from nltk import download \n"
   ]
  },
  {
   "cell_type": "code",
   "execution_count": 42,
   "metadata": {},
   "outputs": [
    {
     "name": "stderr",
     "output_type": "stream",
     "text": [
      "[nltk_data] Error loading vander_lexicon: <urlopen error [Errno 11001]\n",
      "[nltk_data]     getaddrinfo failed>\n"
     ]
    },
    {
     "data": {
      "text/plain": [
       "False"
      ]
     },
     "execution_count": 42,
     "metadata": {},
     "output_type": "execute_result"
    }
   ],
   "source": [
    "download(\"vander_lexicon\")"
   ]
  },
  {
   "cell_type": "code",
   "execution_count": 43,
   "metadata": {},
   "outputs": [
    {
     "data": {
      "text/plain": [
       "['Social Media', '1']"
      ]
     },
     "execution_count": 43,
     "metadata": {},
     "output_type": "execute_result"
    }
   ],
   "source": [
    "feedback"
   ]
  },
  {
   "cell_type": "markdown",
   "metadata": {},
   "source": [
    "Convert timestamp to datetime"
   ]
  },
  {
   "cell_type": "code",
   "execution_count": 44,
   "metadata": {},
   "outputs": [
    {
     "ename": "TypeError",
     "evalue": "list indices must be integers or slices, not str",
     "output_type": "error",
     "traceback": [
      "\u001b[1;31m---------------------------------------------------------------------------\u001b[0m",
      "\u001b[1;31mTypeError\u001b[0m                                 Traceback (most recent call last)",
      "Cell \u001b[1;32mIn[44], line 1\u001b[0m\n\u001b[1;32m----> 1\u001b[0m feedback[\u001b[38;5;124m\"\u001b[39m\u001b[38;5;124mFeedback_Date\u001b[39m\u001b[38;5;124m\"\u001b[39m]\u001b[38;5;241m=\u001b[39mpd\u001b[38;5;241m.\u001b[39mto_datetime(\u001b[43mfeedback\u001b[49m\u001b[43m[\u001b[49m\u001b[38;5;124;43m\"\u001b[39;49m\u001b[38;5;124;43mFeedback_Date\u001b[39;49m\u001b[38;5;124;43m\"\u001b[39;49m\u001b[43m]\u001b[49m) \n",
      "\u001b[1;31mTypeError\u001b[0m: list indices must be integers or slices, not str"
     ]
    }
   ],
   "source": [
    "feedback[\"Feedback_Date\"]=pd.to_datetime(feedback[\"Feedback_Date\"]) "
   ]
  },
  {
   "cell_type": "code",
   "execution_count": null,
   "metadata": {},
   "outputs": [],
   "source": [
    "#Sort Data\n",
    "feedback.sort_values(by=\"Feedback_Date\",inplace=True) "
   ]
  },
  {
   "cell_type": "code",
   "execution_count": null,
   "metadata": {},
   "outputs": [],
   "source": [
    "sia=SentimentIntensityAnalyzer()"
   ]
  },
  {
   "cell_type": "code",
   "execution_count": null,
   "metadata": {},
   "outputs": [],
   "source": [
    "feedback[\"Sentiment_Label\"]=feedback[\"Comment\"].apply(lambda x:sia.polarity_scores(x))"
   ]
  },
  {
   "cell_type": "code",
   "execution_count": null,
   "metadata": {},
   "outputs": [
    {
     "ename": "TypeError",
     "evalue": "unhashable type: 'dict'",
     "output_type": "error",
     "traceback": [
      "\u001b[1;31m---------------------------------------------------------------------------\u001b[0m",
      "\u001b[1;31mTypeError\u001b[0m                                 Traceback (most recent call last)",
      "Cell \u001b[1;32mIn[67], line 2\u001b[0m\n\u001b[0;32m      1\u001b[0m plt\u001b[38;5;241m.\u001b[39mfigure(figsize\u001b[38;5;241m=\u001b[39m(\u001b[38;5;241m10\u001b[39m,\u001b[38;5;241m6\u001b[39m))\n\u001b[1;32m----> 2\u001b[0m \u001b[43mplt\u001b[49m\u001b[38;5;241;43m.\u001b[39;49m\u001b[43mplot\u001b[49m\u001b[43m(\u001b[49m\u001b[43mfeedback\u001b[49m\u001b[43m[\u001b[49m\u001b[38;5;124;43m'\u001b[39;49m\u001b[38;5;124;43mFeedback_Date\u001b[39;49m\u001b[38;5;124;43m'\u001b[39;49m\u001b[43m]\u001b[49m\u001b[43m,\u001b[49m\u001b[43mfeedback\u001b[49m\u001b[43m[\u001b[49m\u001b[38;5;124;43m\"\u001b[39;49m\u001b[38;5;124;43mSentiment_Label\u001b[39;49m\u001b[38;5;124;43m\"\u001b[39;49m\u001b[43m]\u001b[49m\u001b[43m)\u001b[49m\n\u001b[0;32m      3\u001b[0m plt\u001b[38;5;241m.\u001b[39mxlabel(\u001b[38;5;124m\"\u001b[39m\u001b[38;5;124mTime\u001b[39m\u001b[38;5;124m\"\u001b[39m)\n\u001b[0;32m      4\u001b[0m plt\u001b[38;5;241m.\u001b[39mylabel(\u001b[38;5;124m\"\u001b[39m\u001b[38;5;124msentiment\u001b[39m\u001b[38;5;124m\"\u001b[39m)\n",
      "File \u001b[1;32mc:\\Users\\INTEL\\AppData\\Local\\Programs\\Python\\Python312\\Lib\\site-packages\\matplotlib\\pyplot.py:3794\u001b[0m, in \u001b[0;36mplot\u001b[1;34m(scalex, scaley, data, *args, **kwargs)\u001b[0m\n\u001b[0;32m   3786\u001b[0m \u001b[38;5;129m@_copy_docstring_and_deprecators\u001b[39m(Axes\u001b[38;5;241m.\u001b[39mplot)\n\u001b[0;32m   3787\u001b[0m \u001b[38;5;28;01mdef\u001b[39;00m \u001b[38;5;21mplot\u001b[39m(\n\u001b[0;32m   3788\u001b[0m     \u001b[38;5;241m*\u001b[39margs: \u001b[38;5;28mfloat\u001b[39m \u001b[38;5;241m|\u001b[39m ArrayLike \u001b[38;5;241m|\u001b[39m \u001b[38;5;28mstr\u001b[39m,\n\u001b[1;32m   (...)\u001b[0m\n\u001b[0;32m   3792\u001b[0m     \u001b[38;5;241m*\u001b[39m\u001b[38;5;241m*\u001b[39mkwargs,\n\u001b[0;32m   3793\u001b[0m ) \u001b[38;5;241m-\u001b[39m\u001b[38;5;241m>\u001b[39m \u001b[38;5;28mlist\u001b[39m[Line2D]:\n\u001b[1;32m-> 3794\u001b[0m     \u001b[38;5;28;01mreturn\u001b[39;00m \u001b[43mgca\u001b[49m\u001b[43m(\u001b[49m\u001b[43m)\u001b[49m\u001b[38;5;241;43m.\u001b[39;49m\u001b[43mplot\u001b[49m\u001b[43m(\u001b[49m\n\u001b[0;32m   3795\u001b[0m \u001b[43m        \u001b[49m\u001b[38;5;241;43m*\u001b[39;49m\u001b[43margs\u001b[49m\u001b[43m,\u001b[49m\n\u001b[0;32m   3796\u001b[0m \u001b[43m        \u001b[49m\u001b[43mscalex\u001b[49m\u001b[38;5;241;43m=\u001b[39;49m\u001b[43mscalex\u001b[49m\u001b[43m,\u001b[49m\n\u001b[0;32m   3797\u001b[0m \u001b[43m        \u001b[49m\u001b[43mscaley\u001b[49m\u001b[38;5;241;43m=\u001b[39;49m\u001b[43mscaley\u001b[49m\u001b[43m,\u001b[49m\n\u001b[0;32m   3798\u001b[0m \u001b[43m        \u001b[49m\u001b[38;5;241;43m*\u001b[39;49m\u001b[38;5;241;43m*\u001b[39;49m\u001b[43m(\u001b[49m\u001b[43m{\u001b[49m\u001b[38;5;124;43m\"\u001b[39;49m\u001b[38;5;124;43mdata\u001b[39;49m\u001b[38;5;124;43m\"\u001b[39;49m\u001b[43m:\u001b[49m\u001b[43m \u001b[49m\u001b[43mdata\u001b[49m\u001b[43m}\u001b[49m\u001b[43m \u001b[49m\u001b[38;5;28;43;01mif\u001b[39;49;00m\u001b[43m \u001b[49m\u001b[43mdata\u001b[49m\u001b[43m \u001b[49m\u001b[38;5;129;43;01mis\u001b[39;49;00m\u001b[43m \u001b[49m\u001b[38;5;129;43;01mnot\u001b[39;49;00m\u001b[43m \u001b[49m\u001b[38;5;28;43;01mNone\u001b[39;49;00m\u001b[43m \u001b[49m\u001b[38;5;28;43;01melse\u001b[39;49;00m\u001b[43m \u001b[49m\u001b[43m{\u001b[49m\u001b[43m}\u001b[49m\u001b[43m)\u001b[49m\u001b[43m,\u001b[49m\n\u001b[0;32m   3799\u001b[0m \u001b[43m        \u001b[49m\u001b[38;5;241;43m*\u001b[39;49m\u001b[38;5;241;43m*\u001b[39;49m\u001b[43mkwargs\u001b[49m\u001b[43m,\u001b[49m\n\u001b[0;32m   3800\u001b[0m \u001b[43m    \u001b[49m\u001b[43m)\u001b[49m\n",
      "File \u001b[1;32mc:\\Users\\INTEL\\AppData\\Local\\Programs\\Python\\Python312\\Lib\\site-packages\\matplotlib\\axes\\_axes.py:1779\u001b[0m, in \u001b[0;36mAxes.plot\u001b[1;34m(self, scalex, scaley, data, *args, **kwargs)\u001b[0m\n\u001b[0;32m   1536\u001b[0m \u001b[38;5;250m\u001b[39m\u001b[38;5;124;03m\"\"\"\u001b[39;00m\n\u001b[0;32m   1537\u001b[0m \u001b[38;5;124;03mPlot y versus x as lines and/or markers.\u001b[39;00m\n\u001b[0;32m   1538\u001b[0m \n\u001b[1;32m   (...)\u001b[0m\n\u001b[0;32m   1776\u001b[0m \u001b[38;5;124;03m(``'green'``) or hex strings (``'#008000'``).\u001b[39;00m\n\u001b[0;32m   1777\u001b[0m \u001b[38;5;124;03m\"\"\"\u001b[39;00m\n\u001b[0;32m   1778\u001b[0m kwargs \u001b[38;5;241m=\u001b[39m cbook\u001b[38;5;241m.\u001b[39mnormalize_kwargs(kwargs, mlines\u001b[38;5;241m.\u001b[39mLine2D)\n\u001b[1;32m-> 1779\u001b[0m lines \u001b[38;5;241m=\u001b[39m [\u001b[38;5;241m*\u001b[39m\u001b[38;5;28mself\u001b[39m\u001b[38;5;241m.\u001b[39m_get_lines(\u001b[38;5;28mself\u001b[39m, \u001b[38;5;241m*\u001b[39margs, data\u001b[38;5;241m=\u001b[39mdata, \u001b[38;5;241m*\u001b[39m\u001b[38;5;241m*\u001b[39mkwargs)]\n\u001b[0;32m   1780\u001b[0m \u001b[38;5;28;01mfor\u001b[39;00m line \u001b[38;5;129;01min\u001b[39;00m lines:\n\u001b[0;32m   1781\u001b[0m     \u001b[38;5;28mself\u001b[39m\u001b[38;5;241m.\u001b[39madd_line(line)\n",
      "File \u001b[1;32mc:\\Users\\INTEL\\AppData\\Local\\Programs\\Python\\Python312\\Lib\\site-packages\\matplotlib\\axes\\_base.py:296\u001b[0m, in \u001b[0;36m_process_plot_var_args.__call__\u001b[1;34m(self, axes, data, *args, **kwargs)\u001b[0m\n\u001b[0;32m    294\u001b[0m     this \u001b[38;5;241m+\u001b[39m\u001b[38;5;241m=\u001b[39m args[\u001b[38;5;241m0\u001b[39m],\n\u001b[0;32m    295\u001b[0m     args \u001b[38;5;241m=\u001b[39m args[\u001b[38;5;241m1\u001b[39m:]\n\u001b[1;32m--> 296\u001b[0m \u001b[38;5;28;01myield from\u001b[39;00m \u001b[38;5;28;43mself\u001b[39;49m\u001b[38;5;241;43m.\u001b[39;49m\u001b[43m_plot_args\u001b[49m\u001b[43m(\u001b[49m\n\u001b[0;32m    297\u001b[0m \u001b[43m    \u001b[49m\u001b[43maxes\u001b[49m\u001b[43m,\u001b[49m\u001b[43m \u001b[49m\u001b[43mthis\u001b[49m\u001b[43m,\u001b[49m\u001b[43m \u001b[49m\u001b[43mkwargs\u001b[49m\u001b[43m,\u001b[49m\u001b[43m \u001b[49m\u001b[43mambiguous_fmt_datakey\u001b[49m\u001b[38;5;241;43m=\u001b[39;49m\u001b[43mambiguous_fmt_datakey\u001b[49m\u001b[43m)\u001b[49m\n",
      "File \u001b[1;32mc:\\Users\\INTEL\\AppData\\Local\\Programs\\Python\\Python312\\Lib\\site-packages\\matplotlib\\axes\\_base.py:483\u001b[0m, in \u001b[0;36m_process_plot_var_args._plot_args\u001b[1;34m(self, axes, tup, kwargs, return_kwargs, ambiguous_fmt_datakey)\u001b[0m\n\u001b[0;32m    481\u001b[0m     axes\u001b[38;5;241m.\u001b[39mxaxis\u001b[38;5;241m.\u001b[39mupdate_units(x)\n\u001b[0;32m    482\u001b[0m \u001b[38;5;28;01mif\u001b[39;00m axes\u001b[38;5;241m.\u001b[39myaxis \u001b[38;5;129;01mis\u001b[39;00m \u001b[38;5;129;01mnot\u001b[39;00m \u001b[38;5;28;01mNone\u001b[39;00m:\n\u001b[1;32m--> 483\u001b[0m     \u001b[43maxes\u001b[49m\u001b[38;5;241;43m.\u001b[39;49m\u001b[43myaxis\u001b[49m\u001b[38;5;241;43m.\u001b[39;49m\u001b[43mupdate_units\u001b[49m\u001b[43m(\u001b[49m\u001b[43my\u001b[49m\u001b[43m)\u001b[49m\n\u001b[0;32m    485\u001b[0m \u001b[38;5;28;01mif\u001b[39;00m x\u001b[38;5;241m.\u001b[39mshape[\u001b[38;5;241m0\u001b[39m] \u001b[38;5;241m!=\u001b[39m y\u001b[38;5;241m.\u001b[39mshape[\u001b[38;5;241m0\u001b[39m]:\n\u001b[0;32m    486\u001b[0m     \u001b[38;5;28;01mraise\u001b[39;00m \u001b[38;5;167;01mValueError\u001b[39;00m(\u001b[38;5;124mf\u001b[39m\u001b[38;5;124m\"\u001b[39m\u001b[38;5;124mx and y must have same first dimension, but \u001b[39m\u001b[38;5;124m\"\u001b[39m\n\u001b[0;32m    487\u001b[0m                      \u001b[38;5;124mf\u001b[39m\u001b[38;5;124m\"\u001b[39m\u001b[38;5;124mhave shapes \u001b[39m\u001b[38;5;132;01m{\u001b[39;00mx\u001b[38;5;241m.\u001b[39mshape\u001b[38;5;132;01m}\u001b[39;00m\u001b[38;5;124m and \u001b[39m\u001b[38;5;132;01m{\u001b[39;00my\u001b[38;5;241m.\u001b[39mshape\u001b[38;5;132;01m}\u001b[39;00m\u001b[38;5;124m\"\u001b[39m)\n",
      "File \u001b[1;32mc:\\Users\\INTEL\\AppData\\Local\\Programs\\Python\\Python312\\Lib\\site-packages\\matplotlib\\axis.py:1747\u001b[0m, in \u001b[0;36mAxis.update_units\u001b[1;34m(self, data)\u001b[0m\n\u001b[0;32m   1745\u001b[0m neednew \u001b[38;5;241m=\u001b[39m \u001b[38;5;28mself\u001b[39m\u001b[38;5;241m.\u001b[39mconverter \u001b[38;5;241m!=\u001b[39m converter\n\u001b[0;32m   1746\u001b[0m \u001b[38;5;28mself\u001b[39m\u001b[38;5;241m.\u001b[39mconverter \u001b[38;5;241m=\u001b[39m converter\n\u001b[1;32m-> 1747\u001b[0m default \u001b[38;5;241m=\u001b[39m \u001b[38;5;28;43mself\u001b[39;49m\u001b[38;5;241;43m.\u001b[39;49m\u001b[43mconverter\u001b[49m\u001b[38;5;241;43m.\u001b[39;49m\u001b[43mdefault_units\u001b[49m\u001b[43m(\u001b[49m\u001b[43mdata\u001b[49m\u001b[43m,\u001b[49m\u001b[43m \u001b[49m\u001b[38;5;28;43mself\u001b[39;49m\u001b[43m)\u001b[49m\n\u001b[0;32m   1748\u001b[0m \u001b[38;5;28;01mif\u001b[39;00m default \u001b[38;5;129;01mis\u001b[39;00m \u001b[38;5;129;01mnot\u001b[39;00m \u001b[38;5;28;01mNone\u001b[39;00m \u001b[38;5;129;01mand\u001b[39;00m \u001b[38;5;28mself\u001b[39m\u001b[38;5;241m.\u001b[39munits \u001b[38;5;129;01mis\u001b[39;00m \u001b[38;5;28;01mNone\u001b[39;00m:\n\u001b[0;32m   1749\u001b[0m     \u001b[38;5;28mself\u001b[39m\u001b[38;5;241m.\u001b[39mset_units(default)\n",
      "File \u001b[1;32mc:\\Users\\INTEL\\AppData\\Local\\Programs\\Python\\Python312\\Lib\\site-packages\\matplotlib\\category.py:105\u001b[0m, in \u001b[0;36mStrCategoryConverter.default_units\u001b[1;34m(data, axis)\u001b[0m\n\u001b[0;32m    103\u001b[0m \u001b[38;5;66;03m# the conversion call stack is default_units -> axis_info -> convert\u001b[39;00m\n\u001b[0;32m    104\u001b[0m \u001b[38;5;28;01mif\u001b[39;00m axis\u001b[38;5;241m.\u001b[39munits \u001b[38;5;129;01mis\u001b[39;00m \u001b[38;5;28;01mNone\u001b[39;00m:\n\u001b[1;32m--> 105\u001b[0m     axis\u001b[38;5;241m.\u001b[39mset_units(\u001b[43mUnitData\u001b[49m\u001b[43m(\u001b[49m\u001b[43mdata\u001b[49m\u001b[43m)\u001b[49m)\n\u001b[0;32m    106\u001b[0m \u001b[38;5;28;01melse\u001b[39;00m:\n\u001b[0;32m    107\u001b[0m     axis\u001b[38;5;241m.\u001b[39munits\u001b[38;5;241m.\u001b[39mupdate(data)\n",
      "File \u001b[1;32mc:\\Users\\INTEL\\AppData\\Local\\Programs\\Python\\Python312\\Lib\\site-packages\\matplotlib\\category.py:181\u001b[0m, in \u001b[0;36mUnitData.__init__\u001b[1;34m(self, data)\u001b[0m\n\u001b[0;32m    179\u001b[0m \u001b[38;5;28mself\u001b[39m\u001b[38;5;241m.\u001b[39m_counter \u001b[38;5;241m=\u001b[39m itertools\u001b[38;5;241m.\u001b[39mcount()\n\u001b[0;32m    180\u001b[0m \u001b[38;5;28;01mif\u001b[39;00m data \u001b[38;5;129;01mis\u001b[39;00m \u001b[38;5;129;01mnot\u001b[39;00m \u001b[38;5;28;01mNone\u001b[39;00m:\n\u001b[1;32m--> 181\u001b[0m     \u001b[38;5;28;43mself\u001b[39;49m\u001b[38;5;241;43m.\u001b[39;49m\u001b[43mupdate\u001b[49m\u001b[43m(\u001b[49m\u001b[43mdata\u001b[49m\u001b[43m)\u001b[49m\n",
      "File \u001b[1;32mc:\\Users\\INTEL\\AppData\\Local\\Programs\\Python\\Python312\\Lib\\site-packages\\matplotlib\\category.py:214\u001b[0m, in \u001b[0;36mUnitData.update\u001b[1;34m(self, data)\u001b[0m\n\u001b[0;32m    212\u001b[0m \u001b[38;5;66;03m# check if convertible to number:\u001b[39;00m\n\u001b[0;32m    213\u001b[0m convertible \u001b[38;5;241m=\u001b[39m \u001b[38;5;28;01mTrue\u001b[39;00m\n\u001b[1;32m--> 214\u001b[0m \u001b[38;5;28;01mfor\u001b[39;00m val \u001b[38;5;129;01min\u001b[39;00m \u001b[43mOrderedDict\u001b[49m\u001b[38;5;241;43m.\u001b[39;49m\u001b[43mfromkeys\u001b[49m\u001b[43m(\u001b[49m\u001b[43mdata\u001b[49m\u001b[43m)\u001b[49m:\n\u001b[0;32m    215\u001b[0m     \u001b[38;5;66;03m# OrderedDict just iterates over unique values in data.\u001b[39;00m\n\u001b[0;32m    216\u001b[0m     _api\u001b[38;5;241m.\u001b[39mcheck_isinstance((\u001b[38;5;28mstr\u001b[39m, \u001b[38;5;28mbytes\u001b[39m), value\u001b[38;5;241m=\u001b[39mval)\n\u001b[0;32m    217\u001b[0m     \u001b[38;5;28;01mif\u001b[39;00m convertible:\n\u001b[0;32m    218\u001b[0m         \u001b[38;5;66;03m# this will only be called so long as convertible is True.\u001b[39;00m\n",
      "\u001b[1;31mTypeError\u001b[0m: unhashable type: 'dict'"
     ]
    },
    {
     "data": {
      "image/png": "[encoded data removed]",
      "text/plain": [
       "<Figure size 1000x600 with 1 Axes>"
      ]
     },
     "metadata": {},
     "output_type": "display_data"
    }
   ],
   "source": [
    "plt.figure(figsize=(10,6))\n",
    "plt.plot(feedback['Feedback_Date'],feedback[\"Sentiment_Label\"])\n",
    "plt.xlabel(\"Time\")\n",
    "plt.ylabel(\"sentiment\")\n",
    "plt.title(\"Sentiment Over Time\")\n",
    "plt.show()"
   ]
  },
  {
   "cell_type": "code",
   "execution_count": null,
   "metadata": {},
   "outputs": [
    {
     "ename": "TypeError",
     "evalue": "float() argument must be a string or a real number, not 'dict'",
     "output_type": "error",
     "traceback": [
      "\u001b[1;31m---------------------------------------------------------------------------\u001b[0m",
      "\u001b[1;31mTypeError\u001b[0m                                 Traceback (most recent call last)",
      "Cell \u001b[1;32mIn[82], line 1\u001b[0m\n\u001b[1;32m----> 1\u001b[0m decomposition\u001b[38;5;241m=\u001b[39m\u001b[43mseasonal_decompose\u001b[49m\u001b[43m(\u001b[49m\u001b[43mfeedback\u001b[49m\u001b[43m[\u001b[49m\u001b[38;5;124;43m\"\u001b[39;49m\u001b[38;5;124;43mSentiment_Label\u001b[39;49m\u001b[38;5;124;43m\"\u001b[39;49m\u001b[43m]\u001b[49m\u001b[43m)\u001b[49m\n",
      "File \u001b[1;32mc:\\Users\\INTEL\\AppData\\Local\\Programs\\Python\\Python312\\Lib\\site-packages\\statsmodels\\tsa\\seasonal.py:150\u001b[0m, in \u001b[0;36mseasonal_decompose\u001b[1;34m(x, model, filt, period, two_sided, extrapolate_trend)\u001b[0m\n\u001b[0;32m    147\u001b[0m \u001b[38;5;28;01mif\u001b[39;00m period \u001b[38;5;129;01mis\u001b[39;00m \u001b[38;5;28;01mNone\u001b[39;00m:\n\u001b[0;32m    148\u001b[0m     pfreq \u001b[38;5;241m=\u001b[39m \u001b[38;5;28mgetattr\u001b[39m(\u001b[38;5;28mgetattr\u001b[39m(x, \u001b[38;5;124m\"\u001b[39m\u001b[38;5;124mindex\u001b[39m\u001b[38;5;124m\"\u001b[39m, \u001b[38;5;28;01mNone\u001b[39;00m), \u001b[38;5;124m\"\u001b[39m\u001b[38;5;124minferred_freq\u001b[39m\u001b[38;5;124m\"\u001b[39m, \u001b[38;5;28;01mNone\u001b[39;00m)\n\u001b[1;32m--> 150\u001b[0m x \u001b[38;5;241m=\u001b[39m \u001b[43marray_like\u001b[49m\u001b[43m(\u001b[49m\u001b[43mx\u001b[49m\u001b[43m,\u001b[49m\u001b[43m \u001b[49m\u001b[38;5;124;43m\"\u001b[39;49m\u001b[38;5;124;43mx\u001b[39;49m\u001b[38;5;124;43m\"\u001b[39;49m\u001b[43m,\u001b[49m\u001b[43m \u001b[49m\u001b[43mmaxdim\u001b[49m\u001b[38;5;241;43m=\u001b[39;49m\u001b[38;5;241;43m2\u001b[39;49m\u001b[43m)\u001b[49m\n\u001b[0;32m    151\u001b[0m nobs \u001b[38;5;241m=\u001b[39m \u001b[38;5;28mlen\u001b[39m(x)\n\u001b[0;32m    153\u001b[0m \u001b[38;5;28;01mif\u001b[39;00m \u001b[38;5;129;01mnot\u001b[39;00m np\u001b[38;5;241m.\u001b[39mall(np\u001b[38;5;241m.\u001b[39misfinite(x)):\n",
      "File \u001b[1;32mc:\\Users\\INTEL\\AppData\\Local\\Programs\\Python\\Python312\\Lib\\site-packages\\statsmodels\\tools\\validation\\validation.py:143\u001b[0m, in \u001b[0;36marray_like\u001b[1;34m(obj, name, dtype, ndim, maxdim, shape, order, contiguous, optional, writeable)\u001b[0m\n\u001b[0;32m    141\u001b[0m \u001b[38;5;28;01melif\u001b[39;00m order \u001b[38;5;241m==\u001b[39m \u001b[38;5;124m\"\u001b[39m\u001b[38;5;124mF\u001b[39m\u001b[38;5;124m\"\u001b[39m:\n\u001b[0;32m    142\u001b[0m     reqs \u001b[38;5;241m+\u001b[39m\u001b[38;5;241m=\u001b[39m [\u001b[38;5;124m\"\u001b[39m\u001b[38;5;124mF\u001b[39m\u001b[38;5;124m\"\u001b[39m]\n\u001b[1;32m--> 143\u001b[0m arr \u001b[38;5;241m=\u001b[39m \u001b[43mnp\u001b[49m\u001b[38;5;241;43m.\u001b[39;49m\u001b[43mrequire\u001b[49m\u001b[43m(\u001b[49m\u001b[43mobj\u001b[49m\u001b[43m,\u001b[49m\u001b[43m \u001b[49m\u001b[43mdtype\u001b[49m\u001b[38;5;241;43m=\u001b[39;49m\u001b[43mdtype\u001b[49m\u001b[43m,\u001b[49m\u001b[43m \u001b[49m\u001b[43mrequirements\u001b[49m\u001b[38;5;241;43m=\u001b[39;49m\u001b[43mreqs\u001b[49m\u001b[43m)\u001b[49m\n\u001b[0;32m    144\u001b[0m \u001b[38;5;28;01mif\u001b[39;00m maxdim \u001b[38;5;129;01mis\u001b[39;00m \u001b[38;5;129;01mnot\u001b[39;00m \u001b[38;5;28;01mNone\u001b[39;00m:\n\u001b[0;32m    145\u001b[0m     \u001b[38;5;28;01mif\u001b[39;00m arr\u001b[38;5;241m.\u001b[39mndim \u001b[38;5;241m>\u001b[39m maxdim:\n",
      "File \u001b[1;32mc:\\Users\\INTEL\\AppData\\Local\\Programs\\Python\\Python312\\Lib\\site-packages\\numpy\\core\\_asarray.py:126\u001b[0m, in \u001b[0;36mrequire\u001b[1;34m(a, dtype, requirements, like)\u001b[0m\n\u001b[0;32m    123\u001b[0m     order \u001b[38;5;241m=\u001b[39m \u001b[38;5;124m'\u001b[39m\u001b[38;5;124mC\u001b[39m\u001b[38;5;124m'\u001b[39m\n\u001b[0;32m    124\u001b[0m     requirements\u001b[38;5;241m.\u001b[39mremove(\u001b[38;5;124m'\u001b[39m\u001b[38;5;124mC\u001b[39m\u001b[38;5;124m'\u001b[39m)\n\u001b[1;32m--> 126\u001b[0m arr \u001b[38;5;241m=\u001b[39m \u001b[43marray\u001b[49m\u001b[43m(\u001b[49m\u001b[43ma\u001b[49m\u001b[43m,\u001b[49m\u001b[43m \u001b[49m\u001b[43mdtype\u001b[49m\u001b[38;5;241;43m=\u001b[39;49m\u001b[43mdtype\u001b[49m\u001b[43m,\u001b[49m\u001b[43m \u001b[49m\u001b[43morder\u001b[49m\u001b[38;5;241;43m=\u001b[39;49m\u001b[43morder\u001b[49m\u001b[43m,\u001b[49m\u001b[43m \u001b[49m\u001b[43mcopy\u001b[49m\u001b[38;5;241;43m=\u001b[39;49m\u001b[38;5;28;43;01mFalse\u001b[39;49;00m\u001b[43m,\u001b[49m\u001b[43m \u001b[49m\u001b[43msubok\u001b[49m\u001b[38;5;241;43m=\u001b[39;49m\u001b[43msubok\u001b[49m\u001b[43m)\u001b[49m\n\u001b[0;32m    128\u001b[0m \u001b[38;5;28;01mfor\u001b[39;00m prop \u001b[38;5;129;01min\u001b[39;00m requirements:\n\u001b[0;32m    129\u001b[0m     \u001b[38;5;28;01mif\u001b[39;00m \u001b[38;5;129;01mnot\u001b[39;00m arr\u001b[38;5;241m.\u001b[39mflags[prop]:\n",
      "File \u001b[1;32mc:\\Users\\INTEL\\AppData\\Local\\Programs\\Python\\Python312\\Lib\\site-packages\\pandas\\core\\series.py:1031\u001b[0m, in \u001b[0;36mSeries.__array__\u001b[1;34m(self, dtype, copy)\u001b[0m\n\u001b[0;32m    981\u001b[0m \u001b[38;5;250m\u001b[39m\u001b[38;5;124;03m\"\"\"\u001b[39;00m\n\u001b[0;32m    982\u001b[0m \u001b[38;5;124;03mReturn the values as a NumPy array.\u001b[39;00m\n\u001b[0;32m    983\u001b[0m \n\u001b[1;32m   (...)\u001b[0m\n\u001b[0;32m   1028\u001b[0m \u001b[38;5;124;03m      dtype='datetime64[ns]')\u001b[39;00m\n\u001b[0;32m   1029\u001b[0m \u001b[38;5;124;03m\"\"\"\u001b[39;00m\n\u001b[0;32m   1030\u001b[0m values \u001b[38;5;241m=\u001b[39m \u001b[38;5;28mself\u001b[39m\u001b[38;5;241m.\u001b[39m_values\n\u001b[1;32m-> 1031\u001b[0m arr \u001b[38;5;241m=\u001b[39m \u001b[43mnp\u001b[49m\u001b[38;5;241;43m.\u001b[39;49m\u001b[43masarray\u001b[49m\u001b[43m(\u001b[49m\u001b[43mvalues\u001b[49m\u001b[43m,\u001b[49m\u001b[43m \u001b[49m\u001b[43mdtype\u001b[49m\u001b[38;5;241;43m=\u001b[39;49m\u001b[43mdtype\u001b[49m\u001b[43m)\u001b[49m\n\u001b[0;32m   1032\u001b[0m \u001b[38;5;28;01mif\u001b[39;00m using_copy_on_write() \u001b[38;5;129;01mand\u001b[39;00m astype_is_view(values\u001b[38;5;241m.\u001b[39mdtype, arr\u001b[38;5;241m.\u001b[39mdtype):\n\u001b[0;32m   1033\u001b[0m     arr \u001b[38;5;241m=\u001b[39m arr\u001b[38;5;241m.\u001b[39mview()\n",
      "\u001b[1;31mTypeError\u001b[0m: float() argument must be a string or a real number, not 'dict'"
     ]
    }
   ],
   "source": [
    "decomposition=seasonal_decompose(feedback[\"Sentiment_Label\"])"
   ]
  },
  {
   "cell_type": "code",
   "execution_count": null,
   "metadata": {},
   "outputs": [
    {
     "ename": "NameError",
     "evalue": "name 'decomposition' is not defined",
     "output_type": "error",
     "traceback": [
      "\u001b[1;31m---------------------------------------------------------------------------\u001b[0m",
      "\u001b[1;31mNameError\u001b[0m                                 Traceback (most recent call last)",
      "Cell \u001b[1;32mIn[83], line 1\u001b[0m\n\u001b[1;32m----> 1\u001b[0m trend\u001b[38;5;241m=\u001b[39m\u001b[43mdecomposition\u001b[49m\u001b[38;5;241m.\u001b[39mtrend\n\u001b[0;32m      2\u001b[0m seasonal\u001b[38;5;241m=\u001b[39mdecomposition\u001b[38;5;241m.\u001b[39mseasonal\n\u001b[0;32m      3\u001b[0m residual\u001b[38;5;241m=\u001b[39mdecomposition\u001b[38;5;241m.\u001b[39mresid\n",
      "\u001b[1;31mNameError\u001b[0m: name 'decomposition' is not defined"
     ]
    }
   ],
   "source": [
    "trend=decomposition.trend\n",
    "seasonal=decomposition.seasonal\n",
    "residual=decomposition.resid"
   ]
  }
 ],
 "metadata": {
  "kernelspec": {
   "display_name": "Python 3",
   "language": "python",
   "name": "python3"
  },
  "language_info": {
   "codemirror_mode": {
    "name": "ipython",
    "version": 3
   },
   "file_extension": ".py",
   "mimetype": "text/x-python",
   "name": "python",
   "nbconvert_exporter": "python",
   "pygments_lexer": "ipython3",
   "version": "3.12.2"
  }
 },
 "nbformat": 4,
 "nbformat_minor": 2
}
